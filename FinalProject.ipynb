{
 "cells": [
  {
   "cell_type": "code",
   "execution_count": 1,
   "id": "1c04df6c",
   "metadata": {},
   "outputs": [],
   "source": [
    "#imports\n",
    "import pandas as pd\n",
    "import numpy as np\n",
    "import matplotlib.pyplot as plt\n",
    "import seaborn as sn"
   ]
  },
  {
   "cell_type": "code",
   "execution_count": 2,
   "id": "7a631ea8",
   "metadata": {},
   "outputs": [],
   "source": [
    "df = pd.read_csv('Used_car_price.csv')"
   ]
  },
  {
   "cell_type": "code",
   "execution_count": 3,
   "id": "fa969f0d",
   "metadata": {},
   "outputs": [
    {
     "data": {
      "text/html": [
       "<div>\n",
       "<style scoped>\n",
       "    .dataframe tbody tr th:only-of-type {\n",
       "        vertical-align: middle;\n",
       "    }\n",
       "\n",
       "    .dataframe tbody tr th {\n",
       "        vertical-align: top;\n",
       "    }\n",
       "\n",
       "    .dataframe thead th {\n",
       "        text-align: right;\n",
       "    }\n",
       "</style>\n",
       "<table border=\"1\" class=\"dataframe\">\n",
       "  <thead>\n",
       "    <tr style=\"text-align: right;\">\n",
       "      <th></th>\n",
       "      <th>Unnamed: 0</th>\n",
       "      <th>manufactured</th>\n",
       "      <th>brand</th>\n",
       "      <th>varient</th>\n",
       "      <th>owner</th>\n",
       "      <th>fuel</th>\n",
       "      <th>type</th>\n",
       "      <th>kms</th>\n",
       "      <th>price</th>\n",
       "      <th>city</th>\n",
       "    </tr>\n",
       "  </thead>\n",
       "  <tbody>\n",
       "    <tr>\n",
       "      <th>0</th>\n",
       "      <td>0</td>\n",
       "      <td>2012</td>\n",
       "      <td>Maruti</td>\n",
       "      <td>['Swift', 'Dzire']</td>\n",
       "      <td>1st Owner</td>\n",
       "      <td>Diesel</td>\n",
       "      <td>Manual</td>\n",
       "      <td>1,18,117 km</td>\n",
       "      <td>316399</td>\n",
       "      <td>New Delhi</td>\n",
       "    </tr>\n",
       "    <tr>\n",
       "      <th>1</th>\n",
       "      <td>1</td>\n",
       "      <td>2013</td>\n",
       "      <td>Maruti</td>\n",
       "      <td>['Swift']</td>\n",
       "      <td>1st Owner</td>\n",
       "      <td>Diesel</td>\n",
       "      <td>Manual</td>\n",
       "      <td>1,14,506 km</td>\n",
       "      <td>341599</td>\n",
       "      <td>New Delhi</td>\n",
       "    </tr>\n",
       "    <tr>\n",
       "      <th>2</th>\n",
       "      <td>2</td>\n",
       "      <td>2014</td>\n",
       "      <td>Maruti</td>\n",
       "      <td>['Ritz']</td>\n",
       "      <td>1st Owner</td>\n",
       "      <td>Diesel</td>\n",
       "      <td>Manual</td>\n",
       "      <td>43,382 km</td>\n",
       "      <td>344199</td>\n",
       "      <td>New Delhi</td>\n",
       "    </tr>\n",
       "    <tr>\n",
       "      <th>3</th>\n",
       "      <td>3</td>\n",
       "      <td>2013</td>\n",
       "      <td>Hyundai</td>\n",
       "      <td>['i20']</td>\n",
       "      <td>1st Owner</td>\n",
       "      <td>Diesel</td>\n",
       "      <td>Manual</td>\n",
       "      <td>64,361 km</td>\n",
       "      <td>355799</td>\n",
       "      <td>New Delhi</td>\n",
       "    </tr>\n",
       "    <tr>\n",
       "      <th>4</th>\n",
       "      <td>4</td>\n",
       "      <td>2014</td>\n",
       "      <td>Maruti</td>\n",
       "      <td>['Swift']</td>\n",
       "      <td>1st Owner</td>\n",
       "      <td>Petrol</td>\n",
       "      <td>Manual</td>\n",
       "      <td>1,07,206 km</td>\n",
       "      <td>401599</td>\n",
       "      <td>New Delhi</td>\n",
       "    </tr>\n",
       "  </tbody>\n",
       "</table>\n",
       "</div>"
      ],
      "text/plain": [
       "   Unnamed: 0  manufactured    brand             varient      owner    fuel  \\\n",
       "0           0          2012   Maruti  ['Swift', 'Dzire']  1st Owner  Diesel   \n",
       "1           1          2013   Maruti           ['Swift']  1st Owner  Diesel   \n",
       "2           2          2014   Maruti            ['Ritz']  1st Owner  Diesel   \n",
       "3           3          2013  Hyundai             ['i20']  1st Owner  Diesel   \n",
       "4           4          2014   Maruti           ['Swift']  1st Owner  Petrol   \n",
       "\n",
       "     type          kms   price       city  \n",
       "0  Manual  1,18,117 km  316399  New Delhi  \n",
       "1  Manual  1,14,506 km  341599  New Delhi  \n",
       "2  Manual    43,382 km  344199  New Delhi  \n",
       "3  Manual    64,361 km  355799  New Delhi  \n",
       "4  Manual  1,07,206 km  401599  New Delhi  "
      ]
     },
     "execution_count": 3,
     "metadata": {},
     "output_type": "execute_result"
    }
   ],
   "source": [
    "df.head()"
   ]
  },
  {
   "cell_type": "code",
   "execution_count": 4,
   "id": "6829f9ab",
   "metadata": {},
   "outputs": [
    {
     "data": {
      "text/html": [
       "<div>\n",
       "<style scoped>\n",
       "    .dataframe tbody tr th:only-of-type {\n",
       "        vertical-align: middle;\n",
       "    }\n",
       "\n",
       "    .dataframe tbody tr th {\n",
       "        vertical-align: top;\n",
       "    }\n",
       "\n",
       "    .dataframe thead th {\n",
       "        text-align: right;\n",
       "    }\n",
       "</style>\n",
       "<table border=\"1\" class=\"dataframe\">\n",
       "  <thead>\n",
       "    <tr style=\"text-align: right;\">\n",
       "      <th></th>\n",
       "      <th>car_id</th>\n",
       "      <th>manufactured</th>\n",
       "      <th>brand</th>\n",
       "      <th>variant</th>\n",
       "      <th>owner</th>\n",
       "      <th>fuel</th>\n",
       "      <th>type</th>\n",
       "      <th>kms</th>\n",
       "      <th>price</th>\n",
       "      <th>city</th>\n",
       "    </tr>\n",
       "  </thead>\n",
       "  <tbody>\n",
       "    <tr>\n",
       "      <th>3128</th>\n",
       "      <td>128</td>\n",
       "      <td>2013</td>\n",
       "      <td>Honda</td>\n",
       "      <td>['Brio']</td>\n",
       "      <td>1st Owner</td>\n",
       "      <td>Petrol</td>\n",
       "      <td>Manual</td>\n",
       "      <td>52,861 km</td>\n",
       "      <td>408699</td>\n",
       "      <td>Bengaluru</td>\n",
       "    </tr>\n",
       "    <tr>\n",
       "      <th>4909</th>\n",
       "      <td>222</td>\n",
       "      <td>2021</td>\n",
       "      <td>Nissan</td>\n",
       "      <td>['Kicks']</td>\n",
       "      <td>-</td>\n",
       "      <td>Petrol</td>\n",
       "      <td>manual</td>\n",
       "      <td>8,901 kms</td>\n",
       "      <td>10,59,000</td>\n",
       "      <td>delhi-ncr</td>\n",
       "    </tr>\n",
       "    <tr>\n",
       "      <th>461</th>\n",
       "      <td>461</td>\n",
       "      <td>2018</td>\n",
       "      <td>Ford</td>\n",
       "      <td>['Ecosport']</td>\n",
       "      <td>2nd Owner</td>\n",
       "      <td>Diesel</td>\n",
       "      <td>Manual</td>\n",
       "      <td>52,134 km</td>\n",
       "      <td>628299</td>\n",
       "      <td>New Delhi</td>\n",
       "    </tr>\n",
       "    <tr>\n",
       "      <th>4795</th>\n",
       "      <td>108</td>\n",
       "      <td>2018</td>\n",
       "      <td>Maruti</td>\n",
       "      <td>['Baleno']</td>\n",
       "      <td>-</td>\n",
       "      <td>Petrol</td>\n",
       "      <td>automatic</td>\n",
       "      <td>36,519 kms</td>\n",
       "      <td>7,97,500</td>\n",
       "      <td>bangalore</td>\n",
       "    </tr>\n",
       "    <tr>\n",
       "      <th>1007</th>\n",
       "      <td>7</td>\n",
       "      <td>2011</td>\n",
       "      <td>Hyundai</td>\n",
       "      <td>['i20']</td>\n",
       "      <td>1st Owner</td>\n",
       "      <td>Petrol</td>\n",
       "      <td>Manual</td>\n",
       "      <td>29,080 km</td>\n",
       "      <td>313099</td>\n",
       "      <td>Gurgaon</td>\n",
       "    </tr>\n",
       "  </tbody>\n",
       "</table>\n",
       "</div>"
      ],
      "text/plain": [
       "      car_id  manufactured    brand       variant      owner    fuel  \\\n",
       "3128     128          2013    Honda      ['Brio']  1st Owner  Petrol   \n",
       "4909     222          2021   Nissan     ['Kicks']          -  Petrol   \n",
       "461      461          2018     Ford  ['Ecosport']  2nd Owner  Diesel   \n",
       "4795     108          2018   Maruti    ['Baleno']          -  Petrol   \n",
       "1007       7          2011  Hyundai       ['i20']  1st Owner  Petrol   \n",
       "\n",
       "           type         kms      price       city  \n",
       "3128     Manual   52,861 km     408699  Bengaluru  \n",
       "4909     manual   8,901 kms  10,59,000  delhi-ncr  \n",
       "461      Manual   52,134 km     628299  New Delhi  \n",
       "4795  automatic  36,519 kms   7,97,500  bangalore  \n",
       "1007     Manual   29,080 km     313099    Gurgaon  "
      ]
     },
     "execution_count": 4,
     "metadata": {},
     "output_type": "execute_result"
    }
   ],
   "source": [
    "df = df.rename(columns={'Unnamed: 0': 'car_id'})\n",
    "df = df.rename(columns={'varient': 'variant'})\n",
    "df.sample(5)"
   ]
  },
  {
   "cell_type": "code",
   "execution_count": 5,
   "id": "f7e45dce",
   "metadata": {},
   "outputs": [
    {
     "data": {
      "text/plain": [
       "(5387, 10)"
      ]
     },
     "execution_count": 5,
     "metadata": {},
     "output_type": "execute_result"
    }
   ],
   "source": [
    "#Check the columns and rows\n",
    "df.shape"
   ]
  },
  {
   "cell_type": "code",
   "execution_count": 6,
   "id": "49262086",
   "metadata": {
    "scrolled": true
   },
   "outputs": [
    {
     "data": {
      "text/plain": [
       "car_id           int64\n",
       "manufactured     int64\n",
       "brand           object\n",
       "variant         object\n",
       "owner           object\n",
       "fuel            object\n",
       "type            object\n",
       "kms             object\n",
       "price           object\n",
       "city            object\n",
       "dtype: object"
      ]
     },
     "execution_count": 6,
     "metadata": {},
     "output_type": "execute_result"
    }
   ],
   "source": [
    "#Check for the dtypes\n",
    "df.dtypes"
   ]
  },
  {
   "cell_type": "code",
   "execution_count": 7,
   "id": "b4f8ea80",
   "metadata": {},
   "outputs": [
    {
     "data": {
      "text/html": [
       "<div>\n",
       "<style scoped>\n",
       "    .dataframe tbody tr th:only-of-type {\n",
       "        vertical-align: middle;\n",
       "    }\n",
       "\n",
       "    .dataframe tbody tr th {\n",
       "        vertical-align: top;\n",
       "    }\n",
       "\n",
       "    .dataframe thead th {\n",
       "        text-align: right;\n",
       "    }\n",
       "</style>\n",
       "<table border=\"1\" class=\"dataframe\">\n",
       "  <thead>\n",
       "    <tr style=\"text-align: right;\">\n",
       "      <th></th>\n",
       "      <th>car_id</th>\n",
       "      <th>manufactured</th>\n",
       "      <th>brand</th>\n",
       "      <th>variant</th>\n",
       "      <th>owner</th>\n",
       "      <th>fuel</th>\n",
       "      <th>type</th>\n",
       "      <th>kms</th>\n",
       "      <th>price</th>\n",
       "      <th>city</th>\n",
       "    </tr>\n",
       "  </thead>\n",
       "  <tbody>\n",
       "    <tr>\n",
       "      <th>0</th>\n",
       "      <td>0</td>\n",
       "      <td>2012</td>\n",
       "      <td>Maruti</td>\n",
       "      <td>['Swift' 'Dzire']</td>\n",
       "      <td>1st Owner</td>\n",
       "      <td>Diesel</td>\n",
       "      <td>Manual</td>\n",
       "      <td>118117 km</td>\n",
       "      <td>316399</td>\n",
       "      <td>New Delhi</td>\n",
       "    </tr>\n",
       "    <tr>\n",
       "      <th>1</th>\n",
       "      <td>1</td>\n",
       "      <td>2013</td>\n",
       "      <td>Maruti</td>\n",
       "      <td>['Swift']</td>\n",
       "      <td>1st Owner</td>\n",
       "      <td>Diesel</td>\n",
       "      <td>Manual</td>\n",
       "      <td>114506 km</td>\n",
       "      <td>341599</td>\n",
       "      <td>New Delhi</td>\n",
       "    </tr>\n",
       "    <tr>\n",
       "      <th>2</th>\n",
       "      <td>2</td>\n",
       "      <td>2014</td>\n",
       "      <td>Maruti</td>\n",
       "      <td>['Ritz']</td>\n",
       "      <td>1st Owner</td>\n",
       "      <td>Diesel</td>\n",
       "      <td>Manual</td>\n",
       "      <td>43382 km</td>\n",
       "      <td>344199</td>\n",
       "      <td>New Delhi</td>\n",
       "    </tr>\n",
       "    <tr>\n",
       "      <th>3</th>\n",
       "      <td>3</td>\n",
       "      <td>2013</td>\n",
       "      <td>Hyundai</td>\n",
       "      <td>['i20']</td>\n",
       "      <td>1st Owner</td>\n",
       "      <td>Diesel</td>\n",
       "      <td>Manual</td>\n",
       "      <td>64361 km</td>\n",
       "      <td>355799</td>\n",
       "      <td>New Delhi</td>\n",
       "    </tr>\n",
       "    <tr>\n",
       "      <th>4</th>\n",
       "      <td>4</td>\n",
       "      <td>2014</td>\n",
       "      <td>Maruti</td>\n",
       "      <td>['Swift']</td>\n",
       "      <td>1st Owner</td>\n",
       "      <td>Petrol</td>\n",
       "      <td>Manual</td>\n",
       "      <td>107206 km</td>\n",
       "      <td>401599</td>\n",
       "      <td>New Delhi</td>\n",
       "    </tr>\n",
       "  </tbody>\n",
       "</table>\n",
       "</div>"
      ],
      "text/plain": [
       "   car_id  manufactured    brand            variant      owner    fuel  \\\n",
       "0       0          2012   Maruti  ['Swift' 'Dzire']  1st Owner  Diesel   \n",
       "1       1          2013   Maruti          ['Swift']  1st Owner  Diesel   \n",
       "2       2          2014   Maruti           ['Ritz']  1st Owner  Diesel   \n",
       "3       3          2013  Hyundai            ['i20']  1st Owner  Diesel   \n",
       "4       4          2014   Maruti          ['Swift']  1st Owner  Petrol   \n",
       "\n",
       "     type        kms   price       city  \n",
       "0  Manual  118117 km  316399  New Delhi  \n",
       "1  Manual  114506 km  341599  New Delhi  \n",
       "2  Manual   43382 km  344199  New Delhi  \n",
       "3  Manual   64361 km  355799  New Delhi  \n",
       "4  Manual  107206 km  401599  New Delhi  "
      ]
     },
     "execution_count": 7,
     "metadata": {},
     "output_type": "execute_result"
    }
   ],
   "source": [
    "#Data Cleaning\n",
    "#Remove all the comma in the dataset\n",
    "df.replace(',','', regex=True, inplace=True)\n",
    "df.head()"
   ]
  },
  {
   "cell_type": "code",
   "execution_count": 8,
   "id": "cd7705b0",
   "metadata": {},
   "outputs": [
    {
     "data": {
      "text/plain": [
       "array([\"['Swift' 'Dzire']\", \"['Swift']\", \"['Ritz']\", \"['i20']\",\n",
       "       \"['City']\", \"['Wagon' 'R' '1.0']\", \"['Ciaz']\", \"['Fiesta']\",\n",
       "       \"['S60']\", \"['Baleno']\", \"['Tiago']\", \"['Verna']\", \"['Fortuner']\",\n",
       "       \"['X3']\", \"['AURA']\", \"['Tucson' 'New']\", \"['3' 'Series']\",\n",
       "       \"['TUV300']\", \"['S' 'Cross']\", \"['New' 'Wagon-R']\", \"['Xcent']\",\n",
       "       \"['Bolero']\", \"['IGNIS']\", \"['New' 'Figo']\", \"['i10']\",\n",
       "       \"['Creta']\", \"['Elite' 'i20']\", \"['Redi' 'Go']\", \"['VENUE']\",\n",
       "       \"['Ecosport']\", \"['Dzire']\", \"['Q3']\", \"['Glanza']\",\n",
       "       \"['Grand' 'i10']\", \"['HECTOR']\", \"['Innova']\",\n",
       "       \"['Vitara' 'Brezza']\", \"['Amaze']\", \"['Ertiga']\", \"['Superb']\",\n",
       "       \"['WR-V']\", \"['Jazz']\", \"['Kwid']\", \"['Figo' 'Aspire']\",\n",
       "       \"['YARIS']\", \"['Corolla' 'Altis']\", \"['Brio']\", \"['Duster']\",\n",
       "       \"['S' 'PRESSO']\", \"['Etios' 'Liva']\", \"['Alto' 'K10']\",\n",
       "       \"['Etios']\", \"['Polo']\", \"['Alto']\", \"['Alto' '800']\",\n",
       "       \"['XUV500']\", \"['5' 'Series']\", \"['Celerio']\", \"['Eon']\",\n",
       "       \"['Vento']\", \"['GRAND' 'I10' 'NIOS']\", \"['Figo']\", \"['Mobilio']\",\n",
       "       \"['NEW' 'I20']\", \"['Scorpio']\", \"['TIGOR']\", \"['Terrano']\",\n",
       "       \"['FREESTYLE']\", \"['NEXON']\", \"['X1']\", \"['Thar']\",\n",
       "       \"['XUV' '3OO']\", \"['Innova' 'Crysta']\", \"['CRV']\", \"['Civic']\",\n",
       "       \"['XL6']\", \"['i20' 'Active']\", \"['SELTOS']\", \"['BR-V']\",\n",
       "       \"['Hexa']\", \"['Compass']\", \"['Rapid']\", \"['Ameo']\", \"['MARAZZO']\",\n",
       "       \"['Eeco']\", \"['Passat']\", \"['NEW' 'SANTRO']\", \"['OMNI' 'E']\",\n",
       "       \"['A' 'Star']\", \"['TRIBER']\", \"['Wagon' 'R' 'Stingray']\",\n",
       "       \"['Santa' 'Fe']\", \"['SX4']\", \"['Benz' 'E' 'Class']\", \"['Jetta']\",\n",
       "       \"['Wagon' 'R']\", \"['Nano']\", \"['Harrier']\", \"['New' 'Elantra']\",\n",
       "       \"['Camry']\", \"['Micra']\", \"['Freelander' '2']\", \"['XF']\",\n",
       "       \"['Zen' 'Estilo']\", \"['Santro' 'Xing']\", \"['A3']\", \"['Kuv100']\",\n",
       "       \"['Captur']\", \"['NUVOSPORT']\", \"['Lodgy']\", \"['Celerio' 'X']\",\n",
       "       \"['Micra' 'Active']\", \"['Kicks']\", \"['S-Presso']\", \"['Quanto']\",\n",
       "       \"['KWID']\", \"['Seltos']\", \"['Sail' 'Hatchback']\",\n",
       "       \"['New' 'C-Class']\", \"['Aura']\", \"['Beat']\", \"['Venue']\",\n",
       "       \"['Ignis']\", \"['Marazzo']\", \"['Sonet']\", \"['E-Class']\",\n",
       "       \"['Grand' 'i10' 'Nios']\", \"['Hector' 'Plus']\", \"['TUV' '300']\",\n",
       "       \"['Altroz']\", \"['Cruze']\", \"['Hector']\", \"['Pajero']\",\n",
       "       \"['7' 'Series']\", \"['Nexon']\", \"['Omni']\", \"['Manza']\",\n",
       "       \"['Santro']\", '[]', \"['Indica']\", \"['Indigo']\", \"['Optra']\",\n",
       "       \"['Triber']\", \"['Freestyle']\", \"['EON']\", \"['M-Class']\",\n",
       "       \"['RediGO']\", \"['KUV' '100']\", \"['XUV300']\", \"['GO']\", \"['Sumo']\",\n",
       "       \"['800']\", \"['S60' 'Cross' 'Country']\", \"['Sunny']\",\n",
       "       \"['GO' 'Plus']\", \"['Spark']\", \"['Bolero' 'Power' 'Plus']\",\n",
       "       \"['XE']\", \"['SX4' 'S' 'Cross']\", \"['GLA' 'Class']\",\n",
       "       \"['New' 'Laura']\", \"['GL-Class']\",\n",
       "       \"['Rover' 'Range' 'Rover' 'Velar']\"], dtype=object)"
      ]
     },
     "execution_count": 8,
     "metadata": {},
     "output_type": "execute_result"
    }
   ],
   "source": [
    "df.variant.unique()"
   ]
  },
  {
   "cell_type": "code",
   "execution_count": 9,
   "id": "b84a3f78",
   "metadata": {},
   "outputs": [
    {
     "name": "stderr",
     "output_type": "stream",
     "text": [
      "C:\\Users\\USER\\AppData\\Local\\Temp\\ipykernel_8924\\4127563513.py:2: FutureWarning: The default value of regex will change from True to False in a future version.\n",
      "  df['variant'] = df[\"variant\"].str.replace(\"^\\['|'\\]$\",\"\")\n"
     ]
    },
    {
     "data": {
      "text/plain": [
       "2"
      ]
     },
     "execution_count": 9,
     "metadata": {},
     "output_type": "execute_result"
    }
   ],
   "source": [
    "#Cleaning variant column\n",
    "df['variant'] = df[\"variant\"].str.replace(\"^\\['|'\\]$\",\"\")\n",
    "df['variant'] = df[\"variant\"].str.replace(\"'\",\"\")\n",
    "df['variant'] = df[\"variant\"].str.replace(\",\",\" \")\n",
    "df['variant'] = df[\"variant\"].str.replace(\"I20\",\"i20\")\n",
    "df['variant'] = df[\"variant\"].str.replace(\"NEW\",\"New\")\n",
    "df['variant'] = df[\"variant\"].str.replace(\"AURA\",\"Aura\")\n",
    "df['variant'] = df[\"variant\"].str.replace(\"IGNIS\",\"Ignis\")\n",
    "df['variant'] = df[\"variant\"].str.replace(\"VENUE\",\"Venue\")\n",
    "df['variant'] = df[\"variant\"].str.replace(\"HECTOR\",\"Hector\")\n",
    "df['variant'] = df[\"variant\"].str.replace(\"S  PRESSO\",\"S-Presso\")\n",
    "df['variant'] = df[\"variant\"].str.replace(\"GRAND  I10  NIOS\",\"Grand  i10  Nios\")\n",
    "df['variant'] = df[\"variant\"].str.replace(\"FREESTYLE\",\"Freestyle\")\n",
    "df['variant'] = df[\"variant\"].str.replace(\"NEXON\",\"Nexon\")\n",
    "df['variant'] = df[\"variant\"].str.replace(\"SELTOS\",\"Seltos\")\n",
    "df['variant'] = df[\"variant\"].str.replace(\"MARAZZO\",\"Marazzo\")\n",
    "df['variant'] = df[\"variant\"].str.replace(\"SANTRO\",\"Santro\")\n",
    "df['variant'] = df[\"variant\"].str.replace(\"OMNI\",\"Omni\")\n",
    "df['variant'] = df[\"variant\"].str.replace(\"TRIBER\",\"Triber\")\n",
    "df['variant'] = df[\"variant\"].str.replace(\"KWID\",\"Kwid\")\n",
    "df['variant'] = df[\"variant\"].str.replace(\"KWID\",\"Kwid\")\n",
    "df.query(\"variant == '[]'\")['variant'].count()"
   ]
  },
  {
   "cell_type": "code",
   "execution_count": 10,
   "id": "006779dc",
   "metadata": {},
   "outputs": [
    {
     "data": {
      "text/plain": [
       "0"
      ]
     },
     "execution_count": 10,
     "metadata": {},
     "output_type": "execute_result"
    }
   ],
   "source": [
    "#Checking for empty values and dropping\n",
    "df = df[df.variant != '[]']\n",
    "df.query(\"variant == '[]'\")['variant'].count()"
   ]
  },
  {
   "cell_type": "code",
   "execution_count": 11,
   "id": "71587038",
   "metadata": {},
   "outputs": [
    {
     "data": {
      "text/plain": [
       "array(['Maruti', 'Hyundai', 'Honda', 'Ford', 'Volvo', 'Tata', 'Toyota',\n",
       "       'BMW', 'Mahindra', 'Datsun', 'Audi', 'MG', 'Skoda', 'Renault',\n",
       "       'Volkswagen', 'HYUNDAI', 'Nissan', 'KIA', 'Jeep', 'Mercedes',\n",
       "       'Landrover', 'Jaguar', 'Kia', 'Chevrolet', 'Mercedes-Benz',\n",
       "       'Mitsubishi', 'Land'], dtype=object)"
      ]
     },
     "execution_count": 11,
     "metadata": {},
     "output_type": "execute_result"
    }
   ],
   "source": [
    "# Adding brands to the model variants for later uses\n",
    "df.brand.unique()"
   ]
  },
  {
   "cell_type": "code",
   "execution_count": 12,
   "id": "b7e8a659",
   "metadata": {},
   "outputs": [],
   "source": [
    "#Replacing same brand with small and uppercase problem\n",
    "df.replace('HYUNDAI','Hyundai', regex=True, inplace=True)\n",
    "df.replace('KIA','Kia', regex=True, inplace=True)\n",
    "df.replace('Mercedes-Benz','Mercedes', regex=True, inplace=True)\n",
    "df = df[df.brand != 'Land']"
   ]
  },
  {
   "cell_type": "code",
   "execution_count": 13,
   "id": "7d0a1e15",
   "metadata": {},
   "outputs": [],
   "source": [
    "mask = (df['brand'] == 'Maruti')\n",
    "df.loc[mask, 'variant'] = 'Maruti ' + df['variant'].astype(str)"
   ]
  },
  {
   "cell_type": "code",
   "execution_count": 14,
   "id": "b7c907ea",
   "metadata": {},
   "outputs": [],
   "source": [
    "mask = (df['brand'] == 'Hyundai')\n",
    "df.loc[mask, 'variant'] = 'Hyundai ' + df['variant'].astype(str)"
   ]
  },
  {
   "cell_type": "code",
   "execution_count": 15,
   "id": "9123f5ab",
   "metadata": {},
   "outputs": [],
   "source": [
    "mask = (df['brand'] == 'Honda')\n",
    "df.loc[mask, 'variant'] = 'Honda ' + df['variant'].astype(str)"
   ]
  },
  {
   "cell_type": "code",
   "execution_count": 16,
   "id": "c88bfe20",
   "metadata": {},
   "outputs": [],
   "source": [
    "mask = (df['brand'] == 'Ford')\n",
    "df.loc[mask, 'variant'] = 'Ford ' + df['variant'].astype(str)"
   ]
  },
  {
   "cell_type": "code",
   "execution_count": 17,
   "id": "f1a4bb92",
   "metadata": {},
   "outputs": [],
   "source": [
    "mask = (df['brand'] == 'Volvo')\n",
    "df.loc[mask, 'variant'] = 'Volvo ' + df['variant'].astype(str)"
   ]
  },
  {
   "cell_type": "code",
   "execution_count": 18,
   "id": "e4107d07",
   "metadata": {},
   "outputs": [],
   "source": [
    "mask = (df['brand'] == 'Tata')\n",
    "df.loc[mask, 'variant'] = 'Tata ' + df['variant'].astype(str)"
   ]
  },
  {
   "cell_type": "code",
   "execution_count": 19,
   "id": "94bdf495",
   "metadata": {},
   "outputs": [],
   "source": [
    "mask = (df['brand'] == 'BMW')\n",
    "df.loc[mask, 'variant'] = 'BMW ' + df['variant'].astype(str)"
   ]
  },
  {
   "cell_type": "code",
   "execution_count": 20,
   "id": "2af82ff2",
   "metadata": {},
   "outputs": [],
   "source": [
    "mask = (df['brand'] == 'Toyota')\n",
    "df.loc[mask, 'variant'] = 'Toyota ' + df['variant'].astype(str)"
   ]
  },
  {
   "cell_type": "code",
   "execution_count": 21,
   "id": "b1190ec0",
   "metadata": {},
   "outputs": [],
   "source": [
    "mask = (df['brand'] == 'Mahindra')\n",
    "df.loc[mask, 'variant'] = 'Mahindra ' + df['variant'].astype(str)"
   ]
  },
  {
   "cell_type": "code",
   "execution_count": 22,
   "id": "91855c27",
   "metadata": {},
   "outputs": [],
   "source": [
    "mask = (df['brand'] == 'Datsun')\n",
    "df.loc[mask, 'variant'] = 'Datsun ' + df['variant'].astype(str)"
   ]
  },
  {
   "cell_type": "code",
   "execution_count": 23,
   "id": "a8197c81",
   "metadata": {},
   "outputs": [],
   "source": [
    "mask = (df['brand'] == 'Audi')\n",
    "df.loc[mask, 'variant'] = 'Audi ' + df['variant'].astype(str)"
   ]
  },
  {
   "cell_type": "code",
   "execution_count": 24,
   "id": "7340daae",
   "metadata": {},
   "outputs": [],
   "source": [
    "mask = (df['brand'] == 'MG')\n",
    "df.loc[mask, 'variant'] = 'MG ' + df['variant'].astype(str)"
   ]
  },
  {
   "cell_type": "code",
   "execution_count": 25,
   "id": "56f5794f",
   "metadata": {},
   "outputs": [],
   "source": [
    "mask = (df['brand'] == 'Renault')\n",
    "df.loc[mask, 'variant'] = 'Renault ' + df['variant'].astype(str)"
   ]
  },
  {
   "cell_type": "code",
   "execution_count": 26,
   "id": "3e45850e",
   "metadata": {},
   "outputs": [],
   "source": [
    "mask = (df['brand'] == 'Volkswagen')\n",
    "df.loc[mask, 'variant'] = 'Volkswagen ' + df['variant'].astype(str)"
   ]
  },
  {
   "cell_type": "code",
   "execution_count": 27,
   "id": "7aa5cc16",
   "metadata": {},
   "outputs": [],
   "source": [
    "mask = (df['brand'] == 'Skoda')\n",
    "df.loc[mask, 'variant'] = 'Skoda ' + df['variant'].astype(str)"
   ]
  },
  {
   "cell_type": "code",
   "execution_count": 28,
   "id": "e5d57a93",
   "metadata": {},
   "outputs": [],
   "source": [
    "mask = (df['brand'] == 'Nissan')\n",
    "df.loc[mask, 'variant'] = 'Nissan ' + df['variant'].astype(str)"
   ]
  },
  {
   "cell_type": "code",
   "execution_count": 29,
   "id": "7063e2fb",
   "metadata": {},
   "outputs": [],
   "source": [
    "mask = (df['brand'] == 'Kia')\n",
    "df.loc[mask, 'variant'] = 'Kia ' + df['variant'].astype(str)"
   ]
  },
  {
   "cell_type": "code",
   "execution_count": 30,
   "id": "40bcd1d0",
   "metadata": {},
   "outputs": [],
   "source": [
    "mask = (df['brand'] == 'Jeep')\n",
    "df.loc[mask, 'variant'] = 'Jeep ' + df['variant'].astype(str)"
   ]
  },
  {
   "cell_type": "code",
   "execution_count": 31,
   "id": "9d44d2d6",
   "metadata": {},
   "outputs": [],
   "source": [
    "mask = (df['brand'] == 'Mercedes')\n",
    "df.loc[mask, 'variant'] = 'Mercedes ' + df['variant'].astype(str)"
   ]
  },
  {
   "cell_type": "code",
   "execution_count": 32,
   "id": "3ac43307",
   "metadata": {},
   "outputs": [],
   "source": [
    "mask = (df['brand'] == 'Landrover')\n",
    "df.loc[mask, 'variant'] = 'Landrover ' + df['variant'].astype(str)"
   ]
  },
  {
   "cell_type": "code",
   "execution_count": 33,
   "id": "6fd10f98",
   "metadata": {},
   "outputs": [],
   "source": [
    "mask = (df['brand'] == 'Jaguar')\n",
    "df.loc[mask, 'variant'] = 'Jaguar ' + df['variant'].astype(str)"
   ]
  },
  {
   "cell_type": "code",
   "execution_count": 34,
   "id": "0560e3ef",
   "metadata": {},
   "outputs": [],
   "source": [
    "mask = (df['brand'] == 'Chevrolet')\n",
    "df.loc[mask, 'variant'] = 'Chevrolet ' + df['variant'].astype(str)"
   ]
  },
  {
   "cell_type": "code",
   "execution_count": 35,
   "id": "04d15c53",
   "metadata": {},
   "outputs": [],
   "source": [
    "mask = (df['brand'] == 'Mitsubishi')\n",
    "df.loc[mask, 'variant'] = 'Mitsubishi ' + df['variant'].astype(str)"
   ]
  },
  {
   "cell_type": "code",
   "execution_count": 36,
   "id": "0080195a",
   "metadata": {},
   "outputs": [
    {
     "data": {
      "text/html": [
       "<div>\n",
       "<style scoped>\n",
       "    .dataframe tbody tr th:only-of-type {\n",
       "        vertical-align: middle;\n",
       "    }\n",
       "\n",
       "    .dataframe tbody tr th {\n",
       "        vertical-align: top;\n",
       "    }\n",
       "\n",
       "    .dataframe thead th {\n",
       "        text-align: right;\n",
       "    }\n",
       "</style>\n",
       "<table border=\"1\" class=\"dataframe\">\n",
       "  <thead>\n",
       "    <tr style=\"text-align: right;\">\n",
       "      <th></th>\n",
       "      <th>car_id</th>\n",
       "      <th>manufactured</th>\n",
       "      <th>brand</th>\n",
       "      <th>variant</th>\n",
       "      <th>owner</th>\n",
       "      <th>fuel</th>\n",
       "      <th>type</th>\n",
       "      <th>kms</th>\n",
       "      <th>price</th>\n",
       "      <th>city</th>\n",
       "    </tr>\n",
       "  </thead>\n",
       "  <tbody>\n",
       "    <tr>\n",
       "      <th>2555</th>\n",
       "      <td>55</td>\n",
       "      <td>2018</td>\n",
       "      <td>Honda</td>\n",
       "      <td>Honda WR-V</td>\n",
       "      <td>1st Owner</td>\n",
       "      <td>Petrol</td>\n",
       "      <td>Manual</td>\n",
       "      <td>15150 km</td>\n",
       "      <td>871099</td>\n",
       "      <td>Pune</td>\n",
       "    </tr>\n",
       "    <tr>\n",
       "      <th>3443</th>\n",
       "      <td>443</td>\n",
       "      <td>2020</td>\n",
       "      <td>Renault</td>\n",
       "      <td>Renault Kwid</td>\n",
       "      <td>1st Owner</td>\n",
       "      <td>Petrol</td>\n",
       "      <td>Manual</td>\n",
       "      <td>7591 km</td>\n",
       "      <td>410599</td>\n",
       "      <td>Bengaluru</td>\n",
       "    </tr>\n",
       "    <tr>\n",
       "      <th>4604</th>\n",
       "      <td>300</td>\n",
       "      <td>2017</td>\n",
       "      <td>Maruti</td>\n",
       "      <td>Maruti Alto 800</td>\n",
       "      <td>1st Owner</td>\n",
       "      <td>Petrol</td>\n",
       "      <td>Manual</td>\n",
       "      <td>46081 km</td>\n",
       "      <td>305399</td>\n",
       "      <td>Ahmedabad</td>\n",
       "    </tr>\n",
       "    <tr>\n",
       "      <th>5005</th>\n",
       "      <td>318</td>\n",
       "      <td>2012</td>\n",
       "      <td>Hyundai</td>\n",
       "      <td>Hyundai i10</td>\n",
       "      <td>-</td>\n",
       "      <td>Petrol</td>\n",
       "      <td>manual</td>\n",
       "      <td>27456 kms</td>\n",
       "      <td>237000</td>\n",
       "      <td>gurgaon</td>\n",
       "    </tr>\n",
       "    <tr>\n",
       "      <th>5055</th>\n",
       "      <td>368</td>\n",
       "      <td>2020</td>\n",
       "      <td>Renault</td>\n",
       "      <td>Renault Triber</td>\n",
       "      <td>-</td>\n",
       "      <td>Petrol</td>\n",
       "      <td>automatic</td>\n",
       "      <td>16233 kms</td>\n",
       "      <td>718000</td>\n",
       "      <td>hyderabad</td>\n",
       "    </tr>\n",
       "  </tbody>\n",
       "</table>\n",
       "</div>"
      ],
      "text/plain": [
       "      car_id  manufactured    brand          variant      owner    fuel  \\\n",
       "2555      55          2018    Honda       Honda WR-V  1st Owner  Petrol   \n",
       "3443     443          2020  Renault     Renault Kwid  1st Owner  Petrol   \n",
       "4604     300          2017   Maruti  Maruti Alto 800  1st Owner  Petrol   \n",
       "5005     318          2012  Hyundai      Hyundai i10          -  Petrol   \n",
       "5055     368          2020  Renault   Renault Triber          -  Petrol   \n",
       "\n",
       "           type        kms   price       city  \n",
       "2555     Manual   15150 km  871099       Pune  \n",
       "3443     Manual    7591 km  410599  Bengaluru  \n",
       "4604     Manual   46081 km  305399  Ahmedabad  \n",
       "5005     manual  27456 kms  237000    gurgaon  \n",
       "5055  automatic  16233 kms  718000  hyderabad  "
      ]
     },
     "execution_count": 36,
     "metadata": {},
     "output_type": "execute_result"
    }
   ],
   "source": [
    "df.sample(5)"
   ]
  },
  {
   "cell_type": "code",
   "execution_count": 37,
   "id": "f51e13a2",
   "metadata": {},
   "outputs": [
    {
     "data": {
      "text/plain": [
       "car_id            0\n",
       "manufactured      0\n",
       "brand             0\n",
       "variant           0\n",
       "owner             0\n",
       "fuel              0\n",
       "type            195\n",
       "kms               0\n",
       "price             0\n",
       "city              0\n",
       "dtype: int64"
      ]
     },
     "execution_count": 37,
     "metadata": {},
     "output_type": "execute_result"
    }
   ],
   "source": [
    "#Null Treatment\n",
    "#Checking for null values\n",
    "df.isna().sum()"
   ]
  },
  {
   "cell_type": "code",
   "execution_count": 38,
   "id": "a1a34250",
   "metadata": {},
   "outputs": [
    {
     "data": {
      "text/plain": [
       "array(['Manual', 'Automatic', nan, 'manual', 'automatic'], dtype=object)"
      ]
     },
     "execution_count": 38,
     "metadata": {},
     "output_type": "execute_result"
    }
   ],
   "source": [
    "#Checking for the unique values of type column\n",
    "df.type.unique()"
   ]
  },
  {
   "cell_type": "code",
   "execution_count": 39,
   "id": "abf0a9f9",
   "metadata": {},
   "outputs": [
    {
     "data": {
      "text/plain": [
       "array(['Manual', 'Automatic', nan], dtype=object)"
      ]
     },
     "execution_count": 39,
     "metadata": {},
     "output_type": "execute_result"
    }
   ],
   "source": [
    "#Replacing the small first letter to Capitalized first letter\n",
    "df.replace('manual','Manual', regex=True, inplace=True)\n",
    "df.replace('automatic','Automatic', regex=True, inplace=True)\n",
    "df.type.unique()"
   ]
  },
  {
   "cell_type": "code",
   "execution_count": 40,
   "id": "39eaedd1",
   "metadata": {},
   "outputs": [
    {
     "data": {
      "text/plain": [
       "0    Manual\n",
       "Name: type, dtype: object"
      ]
     },
     "execution_count": 40,
     "metadata": {},
     "output_type": "execute_result"
    }
   ],
   "source": [
    "#Getting the mode of the type column\n",
    "df['type'].mode()"
   ]
  },
  {
   "cell_type": "code",
   "execution_count": 41,
   "id": "12ab383f",
   "metadata": {},
   "outputs": [
    {
     "data": {
      "text/plain": [
       "car_id          0\n",
       "manufactured    0\n",
       "brand           0\n",
       "variant         0\n",
       "owner           0\n",
       "fuel            0\n",
       "type            0\n",
       "kms             0\n",
       "price           0\n",
       "city            0\n",
       "dtype: int64"
      ]
     },
     "execution_count": 41,
     "metadata": {},
     "output_type": "execute_result"
    }
   ],
   "source": [
    "#Null treatment imputation of the mode\n",
    "df['type']=df['type'].fillna(df['type'].mode()[0])\n",
    "df.isna().sum()"
   ]
  },
  {
   "cell_type": "code",
   "execution_count": 42,
   "id": "86b88b51",
   "metadata": {},
   "outputs": [
    {
     "data": {
      "text/plain": [
       "500"
      ]
     },
     "execution_count": 42,
     "metadata": {},
     "output_type": "execute_result"
    }
   ],
   "source": [
    "#Checking for duplicated\n",
    "df.duplicated().sum()"
   ]
  },
  {
   "cell_type": "code",
   "execution_count": 43,
   "id": "93fc967d",
   "metadata": {},
   "outputs": [
    {
     "data": {
      "text/plain": [
       "0"
      ]
     },
     "execution_count": 43,
     "metadata": {},
     "output_type": "execute_result"
    }
   ],
   "source": [
    "#Dropping the duplicates\n",
    "df = df.drop_duplicates()\n",
    "df.duplicated().sum()"
   ]
  },
  {
   "cell_type": "code",
   "execution_count": 44,
   "id": "728470fa",
   "metadata": {},
   "outputs": [
    {
     "name": "stdout",
     "output_type": "stream",
     "text": [
      "Fuel:\n",
      " Petrol          3343\n",
      "Diesel          1506\n",
      "Petrol + CNG      26\n",
      "CNG                8\n",
      "Petrol + LPG       1\n",
      "Name: fuel, dtype: int64\n",
      "\n",
      "Owner:\n",
      " 1st Owner       3392\n",
      "2nd Owner        729\n",
      "-                488\n",
      "First Owner      163\n",
      "3rd Owner         61\n",
      "Second Owner      40\n",
      "Third Owner        6\n",
      "4th Owner          5\n",
      "Name: owner, dtype: int64\n",
      "\n",
      "Type:\n",
      " Manual       4366\n",
      "Automatic     518\n",
      "Name: type, dtype: int64\n"
     ]
    }
   ],
   "source": [
    "#Checking for the value counts of Fuel, Owner and Type\n",
    "print(\"Fuel:\\n\", df.fuel.value_counts())\n",
    "print(\"\\nOwner:\\n\",df.owner.value_counts())\n",
    "print(\"\\nType:\\n\",df.type.value_counts())"
   ]
  },
  {
   "cell_type": "code",
   "execution_count": 45,
   "id": "25580c39",
   "metadata": {},
   "outputs": [
    {
     "data": {
      "text/plain": [
       "array(['1st Owner', '2nd Owner', '3rd Owner', '4th Owner', '-',\n",
       "       'First Owner', 'Second Owner', 'Third Owner'], dtype=object)"
      ]
     },
     "execution_count": 45,
     "metadata": {},
     "output_type": "execute_result"
    }
   ],
   "source": [
    "#Checking for the unique value of owner column\n",
    "df.owner.unique()"
   ]
  },
  {
   "cell_type": "code",
   "execution_count": 46,
   "id": "3134482b",
   "metadata": {},
   "outputs": [
    {
     "data": {
      "text/plain": [
       "array(['1st Owner', '2nd Owner', '3rd Owner', '4th Owner', '-'],\n",
       "      dtype=object)"
      ]
     },
     "execution_count": 46,
     "metadata": {},
     "output_type": "execute_result"
    }
   ],
   "source": [
    "#Optimizing the dataset\n",
    "df.replace('First Owner','1st Owner', regex=True, inplace=True)\n",
    "df.replace('Second Owner','2nd Owner', regex=True, inplace=True)\n",
    "df.replace('Third Owner','3rd Owner', regex=True, inplace=True)\n",
    "df.owner.unique()"
   ]
  },
  {
   "cell_type": "code",
   "execution_count": 47,
   "id": "f85d35a4",
   "metadata": {},
   "outputs": [
    {
     "data": {
      "text/plain": [
       "car_id            0\n",
       "manufactured      0\n",
       "brand             0\n",
       "variant           0\n",
       "owner           488\n",
       "fuel              0\n",
       "type              0\n",
       "kms               0\n",
       "price             0\n",
       "city              0\n",
       "dtype: int64"
      ]
     },
     "execution_count": 47,
     "metadata": {},
     "output_type": "execute_result"
    }
   ],
   "source": [
    "#Replacing the empty value to Null\n",
    "df.replace('-', np.nan, inplace=True)\n",
    "df.isna().sum()"
   ]
  },
  {
   "cell_type": "code",
   "execution_count": 48,
   "id": "52c31bb2",
   "metadata": {},
   "outputs": [
    {
     "data": {
      "text/plain": [
       "0    1st Owner\n",
       "Name: owner, dtype: object"
      ]
     },
     "execution_count": 48,
     "metadata": {},
     "output_type": "execute_result"
    }
   ],
   "source": [
    "#Checking the mode for owner column\n",
    "df.owner.mode()"
   ]
  },
  {
   "cell_type": "code",
   "execution_count": 49,
   "id": "87103c2f",
   "metadata": {},
   "outputs": [
    {
     "data": {
      "text/plain": [
       "car_id          0\n",
       "manufactured    0\n",
       "brand           0\n",
       "variant         0\n",
       "owner           0\n",
       "fuel            0\n",
       "type            0\n",
       "kms             0\n",
       "price           0\n",
       "city            0\n",
       "dtype: int64"
      ]
     },
     "execution_count": 49,
     "metadata": {},
     "output_type": "execute_result"
    }
   ],
   "source": [
    "#Null treatment by imputation of mode\n",
    "df['owner']=df['owner'].fillna(df['owner'].mode()[0])\n",
    "df.isna().sum()"
   ]
  },
  {
   "cell_type": "code",
   "execution_count": 50,
   "id": "6c682d42",
   "metadata": {},
   "outputs": [
    {
     "data": {
      "text/html": [
       "<div>\n",
       "<style scoped>\n",
       "    .dataframe tbody tr th:only-of-type {\n",
       "        vertical-align: middle;\n",
       "    }\n",
       "\n",
       "    .dataframe tbody tr th {\n",
       "        vertical-align: top;\n",
       "    }\n",
       "\n",
       "    .dataframe thead th {\n",
       "        text-align: right;\n",
       "    }\n",
       "</style>\n",
       "<table border=\"1\" class=\"dataframe\">\n",
       "  <thead>\n",
       "    <tr style=\"text-align: right;\">\n",
       "      <th></th>\n",
       "      <th>car_id</th>\n",
       "      <th>manufactured</th>\n",
       "      <th>brand</th>\n",
       "      <th>variant</th>\n",
       "      <th>owner</th>\n",
       "      <th>fuel</th>\n",
       "      <th>type</th>\n",
       "      <th>kms</th>\n",
       "      <th>price</th>\n",
       "      <th>city</th>\n",
       "    </tr>\n",
       "  </thead>\n",
       "  <tbody>\n",
       "    <tr>\n",
       "      <th>0</th>\n",
       "      <td>0</td>\n",
       "      <td>2012</td>\n",
       "      <td>Maruti</td>\n",
       "      <td>Maruti Swift Dzire</td>\n",
       "      <td>1st Owner</td>\n",
       "      <td>Diesel</td>\n",
       "      <td>Manual</td>\n",
       "      <td>118117 km</td>\n",
       "      <td>316399</td>\n",
       "      <td>New Delhi</td>\n",
       "    </tr>\n",
       "    <tr>\n",
       "      <th>1</th>\n",
       "      <td>1</td>\n",
       "      <td>2013</td>\n",
       "      <td>Maruti</td>\n",
       "      <td>Maruti Swift</td>\n",
       "      <td>1st Owner</td>\n",
       "      <td>Diesel</td>\n",
       "      <td>Manual</td>\n",
       "      <td>114506 km</td>\n",
       "      <td>341599</td>\n",
       "      <td>New Delhi</td>\n",
       "    </tr>\n",
       "    <tr>\n",
       "      <th>2</th>\n",
       "      <td>2</td>\n",
       "      <td>2014</td>\n",
       "      <td>Maruti</td>\n",
       "      <td>Maruti Ritz</td>\n",
       "      <td>1st Owner</td>\n",
       "      <td>Diesel</td>\n",
       "      <td>Manual</td>\n",
       "      <td>43382 km</td>\n",
       "      <td>344199</td>\n",
       "      <td>New Delhi</td>\n",
       "    </tr>\n",
       "    <tr>\n",
       "      <th>3</th>\n",
       "      <td>3</td>\n",
       "      <td>2013</td>\n",
       "      <td>Hyundai</td>\n",
       "      <td>Hyundai i20</td>\n",
       "      <td>1st Owner</td>\n",
       "      <td>Diesel</td>\n",
       "      <td>Manual</td>\n",
       "      <td>64361 km</td>\n",
       "      <td>355799</td>\n",
       "      <td>New Delhi</td>\n",
       "    </tr>\n",
       "    <tr>\n",
       "      <th>4</th>\n",
       "      <td>4</td>\n",
       "      <td>2014</td>\n",
       "      <td>Maruti</td>\n",
       "      <td>Maruti Swift</td>\n",
       "      <td>1st Owner</td>\n",
       "      <td>Petrol</td>\n",
       "      <td>Manual</td>\n",
       "      <td>107206 km</td>\n",
       "      <td>401599</td>\n",
       "      <td>New Delhi</td>\n",
       "    </tr>\n",
       "  </tbody>\n",
       "</table>\n",
       "</div>"
      ],
      "text/plain": [
       "   car_id  manufactured    brand             variant      owner    fuel  \\\n",
       "0       0          2012   Maruti  Maruti Swift Dzire  1st Owner  Diesel   \n",
       "1       1          2013   Maruti        Maruti Swift  1st Owner  Diesel   \n",
       "2       2          2014   Maruti         Maruti Ritz  1st Owner  Diesel   \n",
       "3       3          2013  Hyundai         Hyundai i20  1st Owner  Diesel   \n",
       "4       4          2014   Maruti        Maruti Swift  1st Owner  Petrol   \n",
       "\n",
       "     type        kms   price       city  \n",
       "0  Manual  118117 km  316399  New Delhi  \n",
       "1  Manual  114506 km  341599  New Delhi  \n",
       "2  Manual   43382 km  344199  New Delhi  \n",
       "3  Manual   64361 km  355799  New Delhi  \n",
       "4  Manual  107206 km  401599  New Delhi  "
      ]
     },
     "execution_count": 50,
     "metadata": {},
     "output_type": "execute_result"
    }
   ],
   "source": [
    "df.head()"
   ]
  },
  {
   "cell_type": "code",
   "execution_count": 51,
   "id": "03c9642e",
   "metadata": {},
   "outputs": [
    {
     "data": {
      "text/html": [
       "<div>\n",
       "<style scoped>\n",
       "    .dataframe tbody tr th:only-of-type {\n",
       "        vertical-align: middle;\n",
       "    }\n",
       "\n",
       "    .dataframe tbody tr th {\n",
       "        vertical-align: top;\n",
       "    }\n",
       "\n",
       "    .dataframe thead th {\n",
       "        text-align: right;\n",
       "    }\n",
       "</style>\n",
       "<table border=\"1\" class=\"dataframe\">\n",
       "  <thead>\n",
       "    <tr style=\"text-align: right;\">\n",
       "      <th></th>\n",
       "      <th>car_id</th>\n",
       "      <th>manufactured</th>\n",
       "      <th>brand</th>\n",
       "      <th>variant</th>\n",
       "      <th>owner</th>\n",
       "      <th>fuel</th>\n",
       "      <th>type</th>\n",
       "      <th>kms</th>\n",
       "      <th>price</th>\n",
       "      <th>city</th>\n",
       "    </tr>\n",
       "  </thead>\n",
       "  <tbody>\n",
       "    <tr>\n",
       "      <th>0</th>\n",
       "      <td>0</td>\n",
       "      <td>2012</td>\n",
       "      <td>Maruti</td>\n",
       "      <td>Maruti Swift Dzire</td>\n",
       "      <td>1st Owner</td>\n",
       "      <td>Diesel</td>\n",
       "      <td>Manual</td>\n",
       "      <td>118117</td>\n",
       "      <td>316399</td>\n",
       "      <td>New Delhi</td>\n",
       "    </tr>\n",
       "    <tr>\n",
       "      <th>1</th>\n",
       "      <td>1</td>\n",
       "      <td>2013</td>\n",
       "      <td>Maruti</td>\n",
       "      <td>Maruti Swift</td>\n",
       "      <td>1st Owner</td>\n",
       "      <td>Diesel</td>\n",
       "      <td>Manual</td>\n",
       "      <td>114506</td>\n",
       "      <td>341599</td>\n",
       "      <td>New Delhi</td>\n",
       "    </tr>\n",
       "    <tr>\n",
       "      <th>2</th>\n",
       "      <td>2</td>\n",
       "      <td>2014</td>\n",
       "      <td>Maruti</td>\n",
       "      <td>Maruti Ritz</td>\n",
       "      <td>1st Owner</td>\n",
       "      <td>Diesel</td>\n",
       "      <td>Manual</td>\n",
       "      <td>43382</td>\n",
       "      <td>344199</td>\n",
       "      <td>New Delhi</td>\n",
       "    </tr>\n",
       "    <tr>\n",
       "      <th>3</th>\n",
       "      <td>3</td>\n",
       "      <td>2013</td>\n",
       "      <td>Hyundai</td>\n",
       "      <td>Hyundai i20</td>\n",
       "      <td>1st Owner</td>\n",
       "      <td>Diesel</td>\n",
       "      <td>Manual</td>\n",
       "      <td>64361</td>\n",
       "      <td>355799</td>\n",
       "      <td>New Delhi</td>\n",
       "    </tr>\n",
       "    <tr>\n",
       "      <th>4</th>\n",
       "      <td>4</td>\n",
       "      <td>2014</td>\n",
       "      <td>Maruti</td>\n",
       "      <td>Maruti Swift</td>\n",
       "      <td>1st Owner</td>\n",
       "      <td>Petrol</td>\n",
       "      <td>Manual</td>\n",
       "      <td>107206</td>\n",
       "      <td>401599</td>\n",
       "      <td>New Delhi</td>\n",
       "    </tr>\n",
       "    <tr>\n",
       "      <th>...</th>\n",
       "      <td>...</td>\n",
       "      <td>...</td>\n",
       "      <td>...</td>\n",
       "      <td>...</td>\n",
       "      <td>...</td>\n",
       "      <td>...</td>\n",
       "      <td>...</td>\n",
       "      <td>...</td>\n",
       "      <td>...</td>\n",
       "      <td>...</td>\n",
       "    </tr>\n",
       "    <tr>\n",
       "      <th>5382</th>\n",
       "      <td>695</td>\n",
       "      <td>2013</td>\n",
       "      <td>Hyundai</td>\n",
       "      <td>Hyundai i10</td>\n",
       "      <td>1st Owner</td>\n",
       "      <td>Petrol</td>\n",
       "      <td>Manual</td>\n",
       "      <td>56020</td>\n",
       "      <td>291500</td>\n",
       "      <td>noida</td>\n",
       "    </tr>\n",
       "    <tr>\n",
       "      <th>5383</th>\n",
       "      <td>696</td>\n",
       "      <td>2013</td>\n",
       "      <td>Hyundai</td>\n",
       "      <td>Hyundai Verna</td>\n",
       "      <td>1st Owner</td>\n",
       "      <td>Petrol</td>\n",
       "      <td>Manual</td>\n",
       "      <td>79174</td>\n",
       "      <td>450000</td>\n",
       "      <td>noida</td>\n",
       "    </tr>\n",
       "    <tr>\n",
       "      <th>5384</th>\n",
       "      <td>697</td>\n",
       "      <td>2014</td>\n",
       "      <td>Maruti</td>\n",
       "      <td>Maruti Wagon R</td>\n",
       "      <td>1st Owner</td>\n",
       "      <td>Petrol</td>\n",
       "      <td>Manual</td>\n",
       "      <td>74492</td>\n",
       "      <td>278000</td>\n",
       "      <td>noida</td>\n",
       "    </tr>\n",
       "    <tr>\n",
       "      <th>5385</th>\n",
       "      <td>698</td>\n",
       "      <td>2012</td>\n",
       "      <td>Hyundai</td>\n",
       "      <td>Hyundai i10</td>\n",
       "      <td>1st Owner</td>\n",
       "      <td>Petrol</td>\n",
       "      <td>Manual</td>\n",
       "      <td>27456</td>\n",
       "      <td>237000</td>\n",
       "      <td>noida</td>\n",
       "    </tr>\n",
       "    <tr>\n",
       "      <th>5386</th>\n",
       "      <td>699</td>\n",
       "      <td>2015</td>\n",
       "      <td>Honda</td>\n",
       "      <td>Honda City</td>\n",
       "      <td>1st Owner</td>\n",
       "      <td>Petrol</td>\n",
       "      <td>Manual</td>\n",
       "      <td>75856</td>\n",
       "      <td>656500</td>\n",
       "      <td>noida</td>\n",
       "    </tr>\n",
       "  </tbody>\n",
       "</table>\n",
       "<p>4884 rows × 10 columns</p>\n",
       "</div>"
      ],
      "text/plain": [
       "      car_id  manufactured    brand             variant      owner    fuel  \\\n",
       "0          0          2012   Maruti  Maruti Swift Dzire  1st Owner  Diesel   \n",
       "1          1          2013   Maruti        Maruti Swift  1st Owner  Diesel   \n",
       "2          2          2014   Maruti         Maruti Ritz  1st Owner  Diesel   \n",
       "3          3          2013  Hyundai         Hyundai i20  1st Owner  Diesel   \n",
       "4          4          2014   Maruti        Maruti Swift  1st Owner  Petrol   \n",
       "...      ...           ...      ...                 ...        ...     ...   \n",
       "5382     695          2013  Hyundai         Hyundai i10  1st Owner  Petrol   \n",
       "5383     696          2013  Hyundai       Hyundai Verna  1st Owner  Petrol   \n",
       "5384     697          2014   Maruti      Maruti Wagon R  1st Owner  Petrol   \n",
       "5385     698          2012  Hyundai         Hyundai i10  1st Owner  Petrol   \n",
       "5386     699          2015    Honda          Honda City  1st Owner  Petrol   \n",
       "\n",
       "        type     kms   price       city  \n",
       "0     Manual  118117  316399  New Delhi  \n",
       "1     Manual  114506  341599  New Delhi  \n",
       "2     Manual   43382  344199  New Delhi  \n",
       "3     Manual   64361  355799  New Delhi  \n",
       "4     Manual  107206  401599  New Delhi  \n",
       "...      ...     ...     ...        ...  \n",
       "5382  Manual   56020  291500      noida  \n",
       "5383  Manual   79174  450000      noida  \n",
       "5384  Manual   74492  278000      noida  \n",
       "5385  Manual   27456  237000      noida  \n",
       "5386  Manual   75856  656500      noida  \n",
       "\n",
       "[4884 rows x 10 columns]"
      ]
     },
     "execution_count": 51,
     "metadata": {},
     "output_type": "execute_result"
    }
   ],
   "source": [
    "#Removing km/kms to convert the kms colum to integer\n",
    "df[\"kms\"] = df[\"kms\"].str.rstrip(\" km\")\n",
    "df[\"kms\"] = df[\"kms\"].str.rstrip(\" kms\")\n",
    "df"
   ]
  },
  {
   "cell_type": "code",
   "execution_count": 52,
   "id": "6fecf366",
   "metadata": {},
   "outputs": [
    {
     "data": {
      "text/plain": [
       "car_id           int64\n",
       "manufactured     int64\n",
       "brand           object\n",
       "variant         object\n",
       "owner           object\n",
       "fuel            object\n",
       "type            object\n",
       "kms              int32\n",
       "price           object\n",
       "city            object\n",
       "dtype: object"
      ]
     },
     "execution_count": 52,
     "metadata": {},
     "output_type": "execute_result"
    }
   ],
   "source": [
    "#Converting the kms to an integer\n",
    "df=df[df['kms'].str.isnumeric()]\n",
    "df['kms'] = df['kms'].astype(str).astype(int)\n",
    "df.dtypes"
   ]
  },
  {
   "cell_type": "code",
   "execution_count": 53,
   "id": "f5361077",
   "metadata": {},
   "outputs": [
    {
     "data": {
      "text/plain": [
       "array(['New Delhi', 'Noida', 'Gurgaon', 'Mumbai', 'Pune', 'Bengaluru',\n",
       "       'Hyderabad', 'Chennai', 'Kolkata', 'Ahmedabad', 'ahmedabad',\n",
       "       'bangalore', 'chennai', 'delhi-ncr', 'gurgaon', 'hyderabad',\n",
       "       'jaipur', 'kolkata', 'mumbai', 'new-delhi', 'noida'], dtype=object)"
      ]
     },
     "execution_count": 53,
     "metadata": {},
     "output_type": "execute_result"
    }
   ],
   "source": [
    "#Checking for the unique value for the city column\n",
    "df.city.unique()"
   ]
  },
  {
   "cell_type": "code",
   "execution_count": 54,
   "id": "c1a85293",
   "metadata": {},
   "outputs": [
    {
     "data": {
      "text/plain": [
       "New Delhi    500\n",
       "Gurgaon      500\n",
       "Mumbai       500\n",
       "Pune         500\n",
       "Noida        500\n",
       "Chennai      488\n",
       "Bengaluru    444\n",
       "Ahmedabad    383\n",
       "Kolkata      271\n",
       "Hyderabad    101\n",
       "chennai       79\n",
       "kolkata       79\n",
       "hyderabad     60\n",
       "mumbai        60\n",
       "jaipur        60\n",
       "ahmedabad     60\n",
       "gurgaon       60\n",
       "delhi-ncr     60\n",
       "bangalore     60\n",
       "noida         60\n",
       "new-delhi     59\n",
       "Name: city, dtype: int64"
      ]
     },
     "execution_count": 54,
     "metadata": {},
     "output_type": "execute_result"
    }
   ],
   "source": [
    "#Checking for the value counts for city column\n",
    "df.city.value_counts()"
   ]
  },
  {
   "cell_type": "code",
   "execution_count": 55,
   "id": "0104ad72",
   "metadata": {},
   "outputs": [
    {
     "data": {
      "text/plain": [
       "Chennai      567\n",
       "Noida        560\n",
       "Gurgaon      560\n",
       "Mumbai       560\n",
       "New Delhi    559\n",
       "Bengaluru    504\n",
       "Pune         500\n",
       "Ahmedabad    443\n",
       "Kolkata      350\n",
       "Hyderabad    161\n",
       "Delhi Ncr     60\n",
       "Jaipur        60\n",
       "Name: city, dtype: int64"
      ]
     },
     "execution_count": 55,
     "metadata": {},
     "output_type": "execute_result"
    }
   ],
   "source": [
    "#Optimizing the duplicated small letter\n",
    "df.replace('new-delhi','New Delhi', regex=True, inplace=True)\n",
    "df.replace('noida','Noida', regex=True, inplace=True)\n",
    "df.replace('gurgaon','Gurgaon', regex=True, inplace=True)\n",
    "df.replace('mumbai','Mumbai', regex=True, inplace=True)\n",
    "df.replace('bangalore','Bengaluru', regex=True, inplace=True)\n",
    "df.replace('chennai','Chennai', regex=True, inplace=True)\n",
    "df.replace('ahmedabad','Ahmedabad', regex=True, inplace=True)\n",
    "df.replace('hyderabad','Hyderabad', regex=True, inplace=True)\n",
    "df.replace('kolkata','Kolkata', regex=True, inplace=True)\n",
    "df.replace('jaipur','Jaipur', regex=True, inplace=True)\n",
    "df.replace('delhi-ncr','Delhi Ncr', regex=True, inplace=True)\n",
    "df.city.value_counts()"
   ]
  },
  {
   "cell_type": "code",
   "execution_count": 56,
   "id": "abb5aef3",
   "metadata": {},
   "outputs": [
    {
     "data": {
      "text/plain": [
       "Petrol          3343\n",
       "Diesel          1506\n",
       "Petrol + CNG      26\n",
       "CNG                8\n",
       "Petrol + LPG       1\n",
       "Name: fuel, dtype: int64"
      ]
     },
     "execution_count": 56,
     "metadata": {},
     "output_type": "execute_result"
    }
   ],
   "source": [
    "#Checking the value counts for fuel column\n",
    "df.fuel.value_counts()"
   ]
  },
  {
   "cell_type": "code",
   "execution_count": 57,
   "id": "cf113c3a",
   "metadata": {},
   "outputs": [
    {
     "data": {
      "text/plain": [
       "Petrol    3343\n",
       "Diesel    1506\n",
       "CNG         34\n",
       "Name: fuel, dtype: int64"
      ]
     },
     "execution_count": 57,
     "metadata": {},
     "output_type": "execute_result"
    }
   ],
   "source": [
    "#Optimizing the fuel column and removing the LPG\n",
    "df['fuel'] = df['fuel'].replace('Petrol + CNG','CNG')\n",
    "df = df[df.fuel != 'Petrol + LPG']\n",
    "df.fuel.value_counts()"
   ]
  },
  {
   "cell_type": "code",
   "execution_count": 58,
   "id": "86879c2e",
   "metadata": {},
   "outputs": [],
   "source": [
    "#Outliers Treatment\n",
    "#Replace the dtypes of price to int\n",
    "df=df[df['price'].str.isnumeric()]\n",
    "df['price'] = df['price'].astype(str).astype(int)"
   ]
  },
  {
   "cell_type": "code",
   "execution_count": 59,
   "id": "aaf1145f",
   "metadata": {},
   "outputs": [
    {
     "data": {
      "text/html": [
       "<div>\n",
       "<style scoped>\n",
       "    .dataframe tbody tr th:only-of-type {\n",
       "        vertical-align: middle;\n",
       "    }\n",
       "\n",
       "    .dataframe tbody tr th {\n",
       "        vertical-align: top;\n",
       "    }\n",
       "\n",
       "    .dataframe thead th {\n",
       "        text-align: right;\n",
       "    }\n",
       "</style>\n",
       "<table border=\"1\" class=\"dataframe\">\n",
       "  <thead>\n",
       "    <tr style=\"text-align: right;\">\n",
       "      <th></th>\n",
       "      <th>car_id</th>\n",
       "      <th>manufactured</th>\n",
       "      <th>kms</th>\n",
       "      <th>price</th>\n",
       "    </tr>\n",
       "  </thead>\n",
       "  <tbody>\n",
       "    <tr>\n",
       "      <th>count</th>\n",
       "      <td>4883.000000</td>\n",
       "      <td>4883.000000</td>\n",
       "      <td>4883.00000</td>\n",
       "      <td>4.883000e+03</td>\n",
       "    </tr>\n",
       "    <tr>\n",
       "      <th>mean</th>\n",
       "      <td>245.519967</td>\n",
       "      <td>2016.208274</td>\n",
       "      <td>46785.05427</td>\n",
       "      <td>5.858416e+05</td>\n",
       "    </tr>\n",
       "    <tr>\n",
       "      <th>std</th>\n",
       "      <td>156.813266</td>\n",
       "      <td>2.439736</td>\n",
       "      <td>33903.56026</td>\n",
       "      <td>3.290705e+05</td>\n",
       "    </tr>\n",
       "    <tr>\n",
       "      <th>min</th>\n",
       "      <td>0.000000</td>\n",
       "      <td>1999.000000</td>\n",
       "      <td>58.00000</td>\n",
       "      <td>2.800000e+04</td>\n",
       "    </tr>\n",
       "    <tr>\n",
       "      <th>25%</th>\n",
       "      <td>111.500000</td>\n",
       "      <td>2015.000000</td>\n",
       "      <td>21288.50000</td>\n",
       "      <td>3.838490e+05</td>\n",
       "    </tr>\n",
       "    <tr>\n",
       "      <th>50%</th>\n",
       "      <td>234.000000</td>\n",
       "      <td>2017.000000</td>\n",
       "      <td>39019.00000</td>\n",
       "      <td>5.067990e+05</td>\n",
       "    </tr>\n",
       "    <tr>\n",
       "      <th>75%</th>\n",
       "      <td>365.000000</td>\n",
       "      <td>2018.000000</td>\n",
       "      <td>65316.00000</td>\n",
       "      <td>6.902500e+05</td>\n",
       "    </tr>\n",
       "    <tr>\n",
       "      <th>max</th>\n",
       "      <td>699.000000</td>\n",
       "      <td>2021.000000</td>\n",
       "      <td>276914.00000</td>\n",
       "      <td>4.290000e+06</td>\n",
       "    </tr>\n",
       "  </tbody>\n",
       "</table>\n",
       "</div>"
      ],
      "text/plain": [
       "            car_id  manufactured           kms         price\n",
       "count  4883.000000   4883.000000    4883.00000  4.883000e+03\n",
       "mean    245.519967   2016.208274   46785.05427  5.858416e+05\n",
       "std     156.813266      2.439736   33903.56026  3.290705e+05\n",
       "min       0.000000   1999.000000      58.00000  2.800000e+04\n",
       "25%     111.500000   2015.000000   21288.50000  3.838490e+05\n",
       "50%     234.000000   2017.000000   39019.00000  5.067990e+05\n",
       "75%     365.000000   2018.000000   65316.00000  6.902500e+05\n",
       "max     699.000000   2021.000000  276914.00000  4.290000e+06"
      ]
     },
     "execution_count": 59,
     "metadata": {},
     "output_type": "execute_result"
    }
   ],
   "source": [
    "df.describe()"
   ]
  },
  {
   "cell_type": "code",
   "execution_count": 60,
   "id": "21ac2968",
   "metadata": {},
   "outputs": [],
   "source": [
    "df=df[df['price']<2e6].reset_index(drop=True)"
   ]
  },
  {
   "cell_type": "code",
   "execution_count": 61,
   "id": "3ff7d283",
   "metadata": {},
   "outputs": [],
   "source": [
    "#Create a copy of the cleaned dataset\n",
    "cars = df.copy()"
   ]
  },
  {
   "cell_type": "code",
   "execution_count": 62,
   "id": "8ba30b1d",
   "metadata": {
    "scrolled": false
   },
   "outputs": [
    {
     "data": {
      "text/html": [
       "<div>\n",
       "<style scoped>\n",
       "    .dataframe tbody tr th:only-of-type {\n",
       "        vertical-align: middle;\n",
       "    }\n",
       "\n",
       "    .dataframe tbody tr th {\n",
       "        vertical-align: top;\n",
       "    }\n",
       "\n",
       "    .dataframe thead th {\n",
       "        text-align: right;\n",
       "    }\n",
       "</style>\n",
       "<table border=\"1\" class=\"dataframe\">\n",
       "  <thead>\n",
       "    <tr style=\"text-align: right;\">\n",
       "      <th></th>\n",
       "      <th>car_id</th>\n",
       "      <th>manufactured</th>\n",
       "      <th>brand</th>\n",
       "      <th>variant</th>\n",
       "      <th>owner</th>\n",
       "      <th>fuel</th>\n",
       "      <th>type</th>\n",
       "      <th>kms</th>\n",
       "      <th>price</th>\n",
       "      <th>city</th>\n",
       "    </tr>\n",
       "  </thead>\n",
       "  <tbody>\n",
       "    <tr>\n",
       "      <th>0</th>\n",
       "      <td>0</td>\n",
       "      <td>2012</td>\n",
       "      <td>Maruti</td>\n",
       "      <td>Maruti Swift Dzire</td>\n",
       "      <td>1st Owner</td>\n",
       "      <td>Diesel</td>\n",
       "      <td>Manual</td>\n",
       "      <td>118117</td>\n",
       "      <td>316399</td>\n",
       "      <td>New Delhi</td>\n",
       "    </tr>\n",
       "    <tr>\n",
       "      <th>1</th>\n",
       "      <td>1</td>\n",
       "      <td>2013</td>\n",
       "      <td>Maruti</td>\n",
       "      <td>Maruti Swift</td>\n",
       "      <td>1st Owner</td>\n",
       "      <td>Diesel</td>\n",
       "      <td>Manual</td>\n",
       "      <td>114506</td>\n",
       "      <td>341599</td>\n",
       "      <td>New Delhi</td>\n",
       "    </tr>\n",
       "    <tr>\n",
       "      <th>2</th>\n",
       "      <td>2</td>\n",
       "      <td>2014</td>\n",
       "      <td>Maruti</td>\n",
       "      <td>Maruti Ritz</td>\n",
       "      <td>1st Owner</td>\n",
       "      <td>Diesel</td>\n",
       "      <td>Manual</td>\n",
       "      <td>43382</td>\n",
       "      <td>344199</td>\n",
       "      <td>New Delhi</td>\n",
       "    </tr>\n",
       "    <tr>\n",
       "      <th>3</th>\n",
       "      <td>3</td>\n",
       "      <td>2013</td>\n",
       "      <td>Hyundai</td>\n",
       "      <td>Hyundai i20</td>\n",
       "      <td>1st Owner</td>\n",
       "      <td>Diesel</td>\n",
       "      <td>Manual</td>\n",
       "      <td>64361</td>\n",
       "      <td>355799</td>\n",
       "      <td>New Delhi</td>\n",
       "    </tr>\n",
       "    <tr>\n",
       "      <th>4</th>\n",
       "      <td>4</td>\n",
       "      <td>2014</td>\n",
       "      <td>Maruti</td>\n",
       "      <td>Maruti Swift</td>\n",
       "      <td>1st Owner</td>\n",
       "      <td>Petrol</td>\n",
       "      <td>Manual</td>\n",
       "      <td>107206</td>\n",
       "      <td>401599</td>\n",
       "      <td>New Delhi</td>\n",
       "    </tr>\n",
       "    <tr>\n",
       "      <th>...</th>\n",
       "      <td>...</td>\n",
       "      <td>...</td>\n",
       "      <td>...</td>\n",
       "      <td>...</td>\n",
       "      <td>...</td>\n",
       "      <td>...</td>\n",
       "      <td>...</td>\n",
       "      <td>...</td>\n",
       "      <td>...</td>\n",
       "      <td>...</td>\n",
       "    </tr>\n",
       "    <tr>\n",
       "      <th>4848</th>\n",
       "      <td>695</td>\n",
       "      <td>2013</td>\n",
       "      <td>Hyundai</td>\n",
       "      <td>Hyundai i10</td>\n",
       "      <td>1st Owner</td>\n",
       "      <td>Petrol</td>\n",
       "      <td>Manual</td>\n",
       "      <td>56020</td>\n",
       "      <td>291500</td>\n",
       "      <td>Noida</td>\n",
       "    </tr>\n",
       "    <tr>\n",
       "      <th>4849</th>\n",
       "      <td>696</td>\n",
       "      <td>2013</td>\n",
       "      <td>Hyundai</td>\n",
       "      <td>Hyundai Verna</td>\n",
       "      <td>1st Owner</td>\n",
       "      <td>Petrol</td>\n",
       "      <td>Manual</td>\n",
       "      <td>79174</td>\n",
       "      <td>450000</td>\n",
       "      <td>Noida</td>\n",
       "    </tr>\n",
       "    <tr>\n",
       "      <th>4850</th>\n",
       "      <td>697</td>\n",
       "      <td>2014</td>\n",
       "      <td>Maruti</td>\n",
       "      <td>Maruti Wagon R</td>\n",
       "      <td>1st Owner</td>\n",
       "      <td>Petrol</td>\n",
       "      <td>Manual</td>\n",
       "      <td>74492</td>\n",
       "      <td>278000</td>\n",
       "      <td>Noida</td>\n",
       "    </tr>\n",
       "    <tr>\n",
       "      <th>4851</th>\n",
       "      <td>698</td>\n",
       "      <td>2012</td>\n",
       "      <td>Hyundai</td>\n",
       "      <td>Hyundai i10</td>\n",
       "      <td>1st Owner</td>\n",
       "      <td>Petrol</td>\n",
       "      <td>Manual</td>\n",
       "      <td>27456</td>\n",
       "      <td>237000</td>\n",
       "      <td>Noida</td>\n",
       "    </tr>\n",
       "    <tr>\n",
       "      <th>4852</th>\n",
       "      <td>699</td>\n",
       "      <td>2015</td>\n",
       "      <td>Honda</td>\n",
       "      <td>Honda City</td>\n",
       "      <td>1st Owner</td>\n",
       "      <td>Petrol</td>\n",
       "      <td>Manual</td>\n",
       "      <td>75856</td>\n",
       "      <td>656500</td>\n",
       "      <td>Noida</td>\n",
       "    </tr>\n",
       "  </tbody>\n",
       "</table>\n",
       "<p>4853 rows × 10 columns</p>\n",
       "</div>"
      ],
      "text/plain": [
       "      car_id  manufactured    brand             variant      owner    fuel  \\\n",
       "0          0          2012   Maruti  Maruti Swift Dzire  1st Owner  Diesel   \n",
       "1          1          2013   Maruti        Maruti Swift  1st Owner  Diesel   \n",
       "2          2          2014   Maruti         Maruti Ritz  1st Owner  Diesel   \n",
       "3          3          2013  Hyundai         Hyundai i20  1st Owner  Diesel   \n",
       "4          4          2014   Maruti        Maruti Swift  1st Owner  Petrol   \n",
       "...      ...           ...      ...                 ...        ...     ...   \n",
       "4848     695          2013  Hyundai         Hyundai i10  1st Owner  Petrol   \n",
       "4849     696          2013  Hyundai       Hyundai Verna  1st Owner  Petrol   \n",
       "4850     697          2014   Maruti      Maruti Wagon R  1st Owner  Petrol   \n",
       "4851     698          2012  Hyundai         Hyundai i10  1st Owner  Petrol   \n",
       "4852     699          2015    Honda          Honda City  1st Owner  Petrol   \n",
       "\n",
       "        type     kms   price       city  \n",
       "0     Manual  118117  316399  New Delhi  \n",
       "1     Manual  114506  341599  New Delhi  \n",
       "2     Manual   43382  344199  New Delhi  \n",
       "3     Manual   64361  355799  New Delhi  \n",
       "4     Manual  107206  401599  New Delhi  \n",
       "...      ...     ...     ...        ...  \n",
       "4848  Manual   56020  291500      Noida  \n",
       "4849  Manual   79174  450000      Noida  \n",
       "4850  Manual   74492  278000      Noida  \n",
       "4851  Manual   27456  237000      Noida  \n",
       "4852  Manual   75856  656500      Noida  \n",
       "\n",
       "[4853 rows x 10 columns]"
      ]
     },
     "execution_count": 62,
     "metadata": {},
     "output_type": "execute_result"
    }
   ],
   "source": [
    "cars"
   ]
  },
  {
   "cell_type": "code",
   "execution_count": 63,
   "id": "141fafe2",
   "metadata": {},
   "outputs": [
    {
     "data": {
      "text/plain": [
       "brand\n",
       "Maruti        2403\n",
       "Hyundai       1091\n",
       "Honda          305\n",
       "Ford           298\n",
       "Renault        182\n",
       "Toyota         142\n",
       "Volkswagen      98\n",
       "Tata            94\n",
       "Mahindra        82\n",
       "Datsun          26\n",
       "BMW             23\n",
       "MG              21\n",
       "Nissan          20\n",
       "Kia             18\n",
       "Skoda           15\n",
       "Jeep            14\n",
       "Chevrolet        7\n",
       "Mercedes         5\n",
       "Audi             3\n",
       "Volvo            3\n",
       "Mitsubishi       1\n",
       "Landrover        1\n",
       "Jaguar           1\n",
       "dtype: int64"
      ]
     },
     "execution_count": 63,
     "metadata": {},
     "output_type": "execute_result"
    }
   ],
   "source": [
    "#Check for the brand sorting in asceding order\n",
    "cars.groupby(cars.brand).size().sort_values(ascending =False)"
   ]
  },
  {
   "cell_type": "code",
   "execution_count": 64,
   "id": "d8ad5c7f",
   "metadata": {},
   "outputs": [],
   "source": [
    "#There are 22 unique brand with Maruti brand is most available for purchase/sold followed by Hyundai.\n",
    "\n",
    "#Drop the row with no varient\n",
    "cars.dropna(subset=['variant'],axis=0,inplace=True)"
   ]
  },
  {
   "cell_type": "code",
   "execution_count": 65,
   "id": "3f2b6c32",
   "metadata": {},
   "outputs": [
    {
     "data": {
      "text/plain": [
       "143"
      ]
     },
     "execution_count": 65,
     "metadata": {},
     "output_type": "execute_result"
    }
   ],
   "source": [
    "#Checking how many different type of unique values\n",
    "cars.variant.nunique()"
   ]
  },
  {
   "cell_type": "code",
   "execution_count": 66,
   "id": "42553176",
   "metadata": {
    "scrolled": false
   },
   "outputs": [
    {
     "data": {
      "text/plain": [
       "variant\n",
       "Maruti Swift            400\n",
       "Hyundai Grand i10       292\n",
       "Maruti Alto 800         265\n",
       "Maruti Baleno           262\n",
       "Ford Ecosport           223\n",
       "Maruti Vitara Brezza    207\n",
       "Maruti Swift Dzire      198\n",
       "Hyundai Elite i20       182\n",
       "Maruti Alto K10         173\n",
       "Maruti Wagon R 1.0      161\n",
       "Renault Kwid            148\n",
       "Hyundai Creta           123\n",
       "Maruti Celerio          111\n",
       "Honda City              104\n",
       "Hyundai i20              91\n",
       "Hyundai i10              89\n",
       "Honda Amaze              80\n",
       "Maruti Alto              79\n",
       "Maruti Eeco              76\n",
       "Maruti Ignis             72\n",
       "Maruti Ciaz              70\n",
       "Maruti Ertiga            67\n",
       "Maruti Dzire             65\n",
       "Hyundai Verna            62\n",
       "Volkswagen Polo          61\n",
       "Hyundai Eon              49\n",
       "Tata Tiago               48\n",
       "Hyundai Venue            41\n",
       "Maruti S Cross           41\n",
       "Honda Jazz               39\n",
       "Name: variant, dtype: int64"
      ]
     },
     "execution_count": 66,
     "metadata": {},
     "output_type": "execute_result"
    }
   ],
   "source": [
    "#Check for the varient returning the 30 largest\n",
    "cars.groupby('variant')['variant'].size().nlargest(30)"
   ]
  },
  {
   "cell_type": "code",
   "execution_count": 67,
   "id": "76c9732a",
   "metadata": {
    "scrolled": true
   },
   "outputs": [
    {
     "data": {
      "text/html": [
       "<div>\n",
       "<style scoped>\n",
       "    .dataframe tbody tr th:only-of-type {\n",
       "        vertical-align: middle;\n",
       "    }\n",
       "\n",
       "    .dataframe tbody tr th {\n",
       "        vertical-align: top;\n",
       "    }\n",
       "\n",
       "    .dataframe thead th {\n",
       "        text-align: right;\n",
       "    }\n",
       "</style>\n",
       "<table border=\"1\" class=\"dataframe\">\n",
       "  <thead>\n",
       "    <tr style=\"text-align: right;\">\n",
       "      <th></th>\n",
       "      <th>car_id</th>\n",
       "      <th>manufactured</th>\n",
       "      <th>brand</th>\n",
       "      <th>variant</th>\n",
       "      <th>owner</th>\n",
       "      <th>fuel</th>\n",
       "      <th>type</th>\n",
       "      <th>kms</th>\n",
       "      <th>price</th>\n",
       "      <th>city</th>\n",
       "    </tr>\n",
       "  </thead>\n",
       "  <tbody>\n",
       "    <tr>\n",
       "      <th>0</th>\n",
       "      <td>0</td>\n",
       "      <td>2012</td>\n",
       "      <td>Maruti</td>\n",
       "      <td>Maruti Swift Dzire</td>\n",
       "      <td>1st Owner</td>\n",
       "      <td>Diesel</td>\n",
       "      <td>Manual</td>\n",
       "      <td>118117</td>\n",
       "      <td>316399</td>\n",
       "      <td>New Delhi</td>\n",
       "    </tr>\n",
       "    <tr>\n",
       "      <th>1</th>\n",
       "      <td>1</td>\n",
       "      <td>2013</td>\n",
       "      <td>Maruti</td>\n",
       "      <td>Maruti Swift</td>\n",
       "      <td>1st Owner</td>\n",
       "      <td>Diesel</td>\n",
       "      <td>Manual</td>\n",
       "      <td>114506</td>\n",
       "      <td>341599</td>\n",
       "      <td>New Delhi</td>\n",
       "    </tr>\n",
       "    <tr>\n",
       "      <th>2</th>\n",
       "      <td>2</td>\n",
       "      <td>2014</td>\n",
       "      <td>Maruti</td>\n",
       "      <td>Maruti Ritz</td>\n",
       "      <td>1st Owner</td>\n",
       "      <td>Diesel</td>\n",
       "      <td>Manual</td>\n",
       "      <td>43382</td>\n",
       "      <td>344199</td>\n",
       "      <td>New Delhi</td>\n",
       "    </tr>\n",
       "    <tr>\n",
       "      <th>3</th>\n",
       "      <td>3</td>\n",
       "      <td>2013</td>\n",
       "      <td>Hyundai</td>\n",
       "      <td>Hyundai i20</td>\n",
       "      <td>1st Owner</td>\n",
       "      <td>Diesel</td>\n",
       "      <td>Manual</td>\n",
       "      <td>64361</td>\n",
       "      <td>355799</td>\n",
       "      <td>New Delhi</td>\n",
       "    </tr>\n",
       "    <tr>\n",
       "      <th>4</th>\n",
       "      <td>4</td>\n",
       "      <td>2014</td>\n",
       "      <td>Maruti</td>\n",
       "      <td>Maruti Swift</td>\n",
       "      <td>1st Owner</td>\n",
       "      <td>Petrol</td>\n",
       "      <td>Manual</td>\n",
       "      <td>107206</td>\n",
       "      <td>401599</td>\n",
       "      <td>New Delhi</td>\n",
       "    </tr>\n",
       "  </tbody>\n",
       "</table>\n",
       "</div>"
      ],
      "text/plain": [
       "   car_id  manufactured    brand             variant      owner    fuel  \\\n",
       "0       0          2012   Maruti  Maruti Swift Dzire  1st Owner  Diesel   \n",
       "1       1          2013   Maruti        Maruti Swift  1st Owner  Diesel   \n",
       "2       2          2014   Maruti         Maruti Ritz  1st Owner  Diesel   \n",
       "3       3          2013  Hyundai         Hyundai i20  1st Owner  Diesel   \n",
       "4       4          2014   Maruti        Maruti Swift  1st Owner  Petrol   \n",
       "\n",
       "     type     kms   price       city  \n",
       "0  Manual  118117  316399  New Delhi  \n",
       "1  Manual  114506  341599  New Delhi  \n",
       "2  Manual   43382  344199  New Delhi  \n",
       "3  Manual   64361  355799  New Delhi  \n",
       "4  Manual  107206  401599  New Delhi  "
      ]
     },
     "execution_count": 67,
     "metadata": {},
     "output_type": "execute_result"
    }
   ],
   "source": [
    "#There are 144 unique models and Maruti Swift is most popular Model.\n",
    "cars.head()"
   ]
  },
  {
   "cell_type": "code",
   "execution_count": 68,
   "id": "8c8c0b7a",
   "metadata": {},
   "outputs": [
    {
     "data": {
      "text/plain": [
       "0"
      ]
     },
     "execution_count": 68,
     "metadata": {},
     "output_type": "execute_result"
    }
   ],
   "source": [
    "#Checking for zero values\n",
    "cars.query(\"kms == '0'\")['kms'].count()"
   ]
  },
  {
   "cell_type": "code",
   "execution_count": 69,
   "id": "aa537d03",
   "metadata": {},
   "outputs": [
    {
     "data": {
      "text/plain": [
       "0"
      ]
     },
     "execution_count": 69,
     "metadata": {},
     "output_type": "execute_result"
    }
   ],
   "source": [
    "cars.query(\"price == '0'\")['price'].count()"
   ]
  },
  {
   "cell_type": "code",
   "execution_count": 70,
   "id": "9724076f",
   "metadata": {},
   "outputs": [
    {
     "name": "stdout",
     "output_type": "stream",
     "text": [
      "<class 'pandas.core.frame.DataFrame'>\n",
      "RangeIndex: 4853 entries, 0 to 4852\n",
      "Data columns (total 10 columns):\n",
      " #   Column        Non-Null Count  Dtype \n",
      "---  ------        --------------  ----- \n",
      " 0   car_id        4853 non-null   int64 \n",
      " 1   manufactured  4853 non-null   int64 \n",
      " 2   brand         4853 non-null   object\n",
      " 3   variant       4853 non-null   object\n",
      " 4   owner         4853 non-null   object\n",
      " 5   fuel          4853 non-null   object\n",
      " 6   type          4853 non-null   object\n",
      " 7   kms           4853 non-null   int32 \n",
      " 8   price         4853 non-null   int32 \n",
      " 9   city          4853 non-null   object\n",
      "dtypes: int32(2), int64(2), object(6)\n",
      "memory usage: 341.4+ KB\n"
     ]
    }
   ],
   "source": [
    "cars.info()"
   ]
  },
  {
   "cell_type": "code",
   "execution_count": 71,
   "id": "178ab0aa",
   "metadata": {},
   "outputs": [
    {
     "data": {
      "text/html": [
       "<div>\n",
       "<style scoped>\n",
       "    .dataframe tbody tr th:only-of-type {\n",
       "        vertical-align: middle;\n",
       "    }\n",
       "\n",
       "    .dataframe tbody tr th {\n",
       "        vertical-align: top;\n",
       "    }\n",
       "\n",
       "    .dataframe thead th {\n",
       "        text-align: right;\n",
       "    }\n",
       "</style>\n",
       "<table border=\"1\" class=\"dataframe\">\n",
       "  <thead>\n",
       "    <tr style=\"text-align: right;\">\n",
       "      <th></th>\n",
       "      <th>car_id</th>\n",
       "      <th>manufactured</th>\n",
       "      <th>kms</th>\n",
       "      <th>price</th>\n",
       "    </tr>\n",
       "  </thead>\n",
       "  <tbody>\n",
       "    <tr>\n",
       "      <th>count</th>\n",
       "      <td>4853.000000</td>\n",
       "      <td>4853.000000</td>\n",
       "      <td>4853.000000</td>\n",
       "      <td>4.853000e+03</td>\n",
       "    </tr>\n",
       "    <tr>\n",
       "      <th>mean</th>\n",
       "      <td>245.462394</td>\n",
       "      <td>2016.203173</td>\n",
       "      <td>46799.349268</td>\n",
       "      <td>5.730540e+05</td>\n",
       "    </tr>\n",
       "    <tr>\n",
       "      <th>std</th>\n",
       "      <td>156.563042</td>\n",
       "      <td>2.441469</td>\n",
       "      <td>33935.362250</td>\n",
       "      <td>2.815950e+05</td>\n",
       "    </tr>\n",
       "    <tr>\n",
       "      <th>min</th>\n",
       "      <td>0.000000</td>\n",
       "      <td>1999.000000</td>\n",
       "      <td>58.000000</td>\n",
       "      <td>2.800000e+04</td>\n",
       "    </tr>\n",
       "    <tr>\n",
       "      <th>25%</th>\n",
       "      <td>112.000000</td>\n",
       "      <td>2015.000000</td>\n",
       "      <td>21325.000000</td>\n",
       "      <td>3.830000e+05</td>\n",
       "    </tr>\n",
       "    <tr>\n",
       "      <th>50%</th>\n",
       "      <td>234.000000</td>\n",
       "      <td>2017.000000</td>\n",
       "      <td>39019.000000</td>\n",
       "      <td>5.049990e+05</td>\n",
       "    </tr>\n",
       "    <tr>\n",
       "      <th>75%</th>\n",
       "      <td>365.000000</td>\n",
       "      <td>2018.000000</td>\n",
       "      <td>65316.000000</td>\n",
       "      <td>6.856990e+05</td>\n",
       "    </tr>\n",
       "    <tr>\n",
       "      <th>max</th>\n",
       "      <td>699.000000</td>\n",
       "      <td>2021.000000</td>\n",
       "      <td>276914.000000</td>\n",
       "      <td>1.950000e+06</td>\n",
       "    </tr>\n",
       "  </tbody>\n",
       "</table>\n",
       "</div>"
      ],
      "text/plain": [
       "            car_id  manufactured            kms         price\n",
       "count  4853.000000   4853.000000    4853.000000  4.853000e+03\n",
       "mean    245.462394   2016.203173   46799.349268  5.730540e+05\n",
       "std     156.563042      2.441469   33935.362250  2.815950e+05\n",
       "min       0.000000   1999.000000      58.000000  2.800000e+04\n",
       "25%     112.000000   2015.000000   21325.000000  3.830000e+05\n",
       "50%     234.000000   2017.000000   39019.000000  5.049990e+05\n",
       "75%     365.000000   2018.000000   65316.000000  6.856990e+05\n",
       "max     699.000000   2021.000000  276914.000000  1.950000e+06"
      ]
     },
     "execution_count": 71,
     "metadata": {},
     "output_type": "execute_result"
    }
   ],
   "source": [
    "cars.describe()"
   ]
  },
  {
   "cell_type": "code",
   "execution_count": 72,
   "id": "c946cd03",
   "metadata": {},
   "outputs": [
    {
     "data": {
      "text/html": [
       "<div>\n",
       "<style scoped>\n",
       "    .dataframe tbody tr th:only-of-type {\n",
       "        vertical-align: middle;\n",
       "    }\n",
       "\n",
       "    .dataframe tbody tr th {\n",
       "        vertical-align: top;\n",
       "    }\n",
       "\n",
       "    .dataframe thead th {\n",
       "        text-align: right;\n",
       "    }\n",
       "</style>\n",
       "<table border=\"1\" class=\"dataframe\">\n",
       "  <thead>\n",
       "    <tr style=\"text-align: right;\">\n",
       "      <th></th>\n",
       "      <th>manufactured</th>\n",
       "      <th>brand</th>\n",
       "      <th>variant</th>\n",
       "      <th>owner</th>\n",
       "      <th>fuel</th>\n",
       "      <th>type</th>\n",
       "      <th>kms</th>\n",
       "      <th>price</th>\n",
       "      <th>city</th>\n",
       "    </tr>\n",
       "  </thead>\n",
       "  <tbody>\n",
       "    <tr>\n",
       "      <th>0</th>\n",
       "      <td>2012</td>\n",
       "      <td>Maruti</td>\n",
       "      <td>Maruti Swift Dzire</td>\n",
       "      <td>1st Owner</td>\n",
       "      <td>Diesel</td>\n",
       "      <td>Manual</td>\n",
       "      <td>118117</td>\n",
       "      <td>316399</td>\n",
       "      <td>New Delhi</td>\n",
       "    </tr>\n",
       "    <tr>\n",
       "      <th>1</th>\n",
       "      <td>2013</td>\n",
       "      <td>Maruti</td>\n",
       "      <td>Maruti Swift</td>\n",
       "      <td>1st Owner</td>\n",
       "      <td>Diesel</td>\n",
       "      <td>Manual</td>\n",
       "      <td>114506</td>\n",
       "      <td>341599</td>\n",
       "      <td>New Delhi</td>\n",
       "    </tr>\n",
       "    <tr>\n",
       "      <th>2</th>\n",
       "      <td>2014</td>\n",
       "      <td>Maruti</td>\n",
       "      <td>Maruti Ritz</td>\n",
       "      <td>1st Owner</td>\n",
       "      <td>Diesel</td>\n",
       "      <td>Manual</td>\n",
       "      <td>43382</td>\n",
       "      <td>344199</td>\n",
       "      <td>New Delhi</td>\n",
       "    </tr>\n",
       "    <tr>\n",
       "      <th>3</th>\n",
       "      <td>2013</td>\n",
       "      <td>Hyundai</td>\n",
       "      <td>Hyundai i20</td>\n",
       "      <td>1st Owner</td>\n",
       "      <td>Diesel</td>\n",
       "      <td>Manual</td>\n",
       "      <td>64361</td>\n",
       "      <td>355799</td>\n",
       "      <td>New Delhi</td>\n",
       "    </tr>\n",
       "    <tr>\n",
       "      <th>4</th>\n",
       "      <td>2014</td>\n",
       "      <td>Maruti</td>\n",
       "      <td>Maruti Swift</td>\n",
       "      <td>1st Owner</td>\n",
       "      <td>Petrol</td>\n",
       "      <td>Manual</td>\n",
       "      <td>107206</td>\n",
       "      <td>401599</td>\n",
       "      <td>New Delhi</td>\n",
       "    </tr>\n",
       "    <tr>\n",
       "      <th>...</th>\n",
       "      <td>...</td>\n",
       "      <td>...</td>\n",
       "      <td>...</td>\n",
       "      <td>...</td>\n",
       "      <td>...</td>\n",
       "      <td>...</td>\n",
       "      <td>...</td>\n",
       "      <td>...</td>\n",
       "      <td>...</td>\n",
       "    </tr>\n",
       "    <tr>\n",
       "      <th>4848</th>\n",
       "      <td>2013</td>\n",
       "      <td>Hyundai</td>\n",
       "      <td>Hyundai i10</td>\n",
       "      <td>1st Owner</td>\n",
       "      <td>Petrol</td>\n",
       "      <td>Manual</td>\n",
       "      <td>56020</td>\n",
       "      <td>291500</td>\n",
       "      <td>Noida</td>\n",
       "    </tr>\n",
       "    <tr>\n",
       "      <th>4849</th>\n",
       "      <td>2013</td>\n",
       "      <td>Hyundai</td>\n",
       "      <td>Hyundai Verna</td>\n",
       "      <td>1st Owner</td>\n",
       "      <td>Petrol</td>\n",
       "      <td>Manual</td>\n",
       "      <td>79174</td>\n",
       "      <td>450000</td>\n",
       "      <td>Noida</td>\n",
       "    </tr>\n",
       "    <tr>\n",
       "      <th>4850</th>\n",
       "      <td>2014</td>\n",
       "      <td>Maruti</td>\n",
       "      <td>Maruti Wagon R</td>\n",
       "      <td>1st Owner</td>\n",
       "      <td>Petrol</td>\n",
       "      <td>Manual</td>\n",
       "      <td>74492</td>\n",
       "      <td>278000</td>\n",
       "      <td>Noida</td>\n",
       "    </tr>\n",
       "    <tr>\n",
       "      <th>4851</th>\n",
       "      <td>2012</td>\n",
       "      <td>Hyundai</td>\n",
       "      <td>Hyundai i10</td>\n",
       "      <td>1st Owner</td>\n",
       "      <td>Petrol</td>\n",
       "      <td>Manual</td>\n",
       "      <td>27456</td>\n",
       "      <td>237000</td>\n",
       "      <td>Noida</td>\n",
       "    </tr>\n",
       "    <tr>\n",
       "      <th>4852</th>\n",
       "      <td>2015</td>\n",
       "      <td>Honda</td>\n",
       "      <td>Honda City</td>\n",
       "      <td>1st Owner</td>\n",
       "      <td>Petrol</td>\n",
       "      <td>Manual</td>\n",
       "      <td>75856</td>\n",
       "      <td>656500</td>\n",
       "      <td>Noida</td>\n",
       "    </tr>\n",
       "  </tbody>\n",
       "</table>\n",
       "<p>4853 rows × 9 columns</p>\n",
       "</div>"
      ],
      "text/plain": [
       "      manufactured    brand             variant      owner    fuel    type  \\\n",
       "0             2012   Maruti  Maruti Swift Dzire  1st Owner  Diesel  Manual   \n",
       "1             2013   Maruti        Maruti Swift  1st Owner  Diesel  Manual   \n",
       "2             2014   Maruti         Maruti Ritz  1st Owner  Diesel  Manual   \n",
       "3             2013  Hyundai         Hyundai i20  1st Owner  Diesel  Manual   \n",
       "4             2014   Maruti        Maruti Swift  1st Owner  Petrol  Manual   \n",
       "...            ...      ...                 ...        ...     ...     ...   \n",
       "4848          2013  Hyundai         Hyundai i10  1st Owner  Petrol  Manual   \n",
       "4849          2013  Hyundai       Hyundai Verna  1st Owner  Petrol  Manual   \n",
       "4850          2014   Maruti      Maruti Wagon R  1st Owner  Petrol  Manual   \n",
       "4851          2012  Hyundai         Hyundai i10  1st Owner  Petrol  Manual   \n",
       "4852          2015    Honda          Honda City  1st Owner  Petrol  Manual   \n",
       "\n",
       "         kms   price       city  \n",
       "0     118117  316399  New Delhi  \n",
       "1     114506  341599  New Delhi  \n",
       "2      43382  344199  New Delhi  \n",
       "3      64361  355799  New Delhi  \n",
       "4     107206  401599  New Delhi  \n",
       "...      ...     ...        ...  \n",
       "4848   56020  291500      Noida  \n",
       "4849   79174  450000      Noida  \n",
       "4850   74492  278000      Noida  \n",
       "4851   27456  237000      Noida  \n",
       "4852   75856  656500      Noida  \n",
       "\n",
       "[4853 rows x 9 columns]"
      ]
     },
     "execution_count": 72,
     "metadata": {},
     "output_type": "execute_result"
    }
   ],
   "source": [
    "#Dropping the car_id since we don't need it\n",
    "cars.drop(columns=['car_id'], inplace=True)\n",
    "cars"
   ]
  },
  {
   "cell_type": "code",
   "execution_count": 73,
   "id": "ec009f9e",
   "metadata": {},
   "outputs": [],
   "source": [
    "cars.to_csv('Used_car_price_cleaned.csv')"
   ]
  },
  {
   "cell_type": "code",
   "execution_count": 74,
   "id": "2cec66cc",
   "metadata": {},
   "outputs": [
    {
     "data": {
      "image/png": "[encoded data removed]",
      "text/plain": [
       "<Figure size 1440x2160 with 5 Axes>"
      ]
     },
     "metadata": {
      "needs_background": "light"
     },
     "output_type": "display_data"
    }
   ],
   "source": [
    "#ERD\n",
    "cat_columns=['city','fuel','type', 'owner', 'brand'] #cars.select_dtypes(exclude=np.number).columns.tolist()\n",
    "\n",
    "plt.figure(figsize=(20,30))\n",
    "\n",
    "for i, variable in enumerate(cat_columns):\n",
    "                     plt.subplot(4,2,i+1)\n",
    "                     order = cars[variable].value_counts(ascending=False).index    \n",
    "                     ax=sn.countplot(x=cars[variable], data=cars , order=order ,palette='viridis')\n",
    "                     for p in ax.patches:\n",
    "                           percentage = '{:.1f}%'.format(100 * p.get_height()/len(cars[variable]))\n",
    "                           x = p.get_x() + p.get_width() / 2 - 0.05\n",
    "                           y = p.get_y() + p.get_height()\n",
    "                           plt.annotate(percentage, (x, y),ha='center')\n",
    "                     plt.xticks(rotation=90)\n",
    "                     plt.tight_layout()\n",
    "                     plt.title(variable)"
   ]
  },
  {
   "cell_type": "code",
   "execution_count": 75,
   "id": "5805ac5b",
   "metadata": {},
   "outputs": [],
   "source": [
    "#OBSERVATION\n",
    "\n",
    "# Chennai has highest numbers of car availabe for purchase followed by Gurgaon whereas Jaipur and Delhi Ncr has least\n",
    "# 68% of car being sold/avialable for purchase have fuel type as Petrol.\n",
    "# 89 % cars available for sell have manual Transmission.\n",
    "# 82 % cars are First owned cars.\n",
    "# 49% of car available for sale are from Maruti."
   ]
  },
  {
   "cell_type": "code",
   "execution_count": 76,
   "id": "ec1250dc",
   "metadata": {},
   "outputs": [
    {
     "data": {
      "image/png": "[encoded data removed]",
      "text/plain": [
       "<Figure size 936x1224 with 3 Axes>"
      ]
     },
     "metadata": {
      "needs_background": "light"
     },
     "output_type": "display_data"
    }
   ],
   "source": [
    "numeric_columns= numeric_columns = cars.select_dtypes(include=np.number).columns.tolist()\n",
    "plt.figure(figsize=(13,17))\n",
    "\n",
    "for i, variable in enumerate(numeric_columns):\n",
    "                     plt.subplot(5,2,i+1)\n",
    "                     sn.scatterplot(x=cars[variable],y=cars['price']).set(title='price vs '+ variable)\n",
    "                     plt.xticks(rotation=90)\n",
    "                     plt.tight_layout()"
   ]
  },
  {
   "cell_type": "code",
   "execution_count": 77,
   "id": "4f813cee",
   "metadata": {},
   "outputs": [
    {
     "data": {
      "image/png": "[encoded data removed]",
      "text/plain": [
       "<Figure size 432x288 with 1 Axes>"
      ]
     },
     "metadata": {
      "needs_background": "light"
     },
     "output_type": "display_data"
    }
   ],
   "source": [
    "#Manufactured Year and Cars\n",
    "purchased_car_per_manufactured_year = cars['manufactured'].value_counts()\n",
    "purchased_car_per_manufactured_year.plot(kind='bar')\n",
    "plt.xlabel(\"Manufactured Year\")\n",
    "plt.ylabel(\"Paurchased Cars\")\n",
    "plt.title(\"Manufactured Year vs Purchased cars\")\n",
    "plt.show()"
   ]
  },
  {
   "cell_type": "code",
   "execution_count": 78,
   "id": "755361dc",
   "metadata": {},
   "outputs": [
    {
     "data": {
      "image/png": "[encoded data removed]",
      "text/plain": [
       "<Figure size 1440x1080 with 1 Axes>"
      ]
     },
     "metadata": {
      "needs_background": "light"
     },
     "output_type": "display_data"
    }
   ],
   "source": [
    "#Cars sold per brand\n",
    "brand_count=cars['brand'].str.lower().str.split().str.get(0).to_frame()[\"brand\"].value_counts()\n",
    "plt.figure(figsize=(20,15))\n",
    "plt.xlabel('Brand Name')\n",
    "plt.ylabel('No. of cars sold')\n",
    "plt.title('Cars sold per brand')\n",
    "brand_count.plot(kind='bar')\n",
    "plt.show()"
   ]
  },
  {
   "cell_type": "code",
   "execution_count": 79,
   "id": "aae2611e",
   "metadata": {
    "scrolled": false
   },
   "outputs": [
    {
     "data": {
      "image/png": "[encoded data removed]",
      "text/plain": [
       "<Figure size 1440x1080 with 1 Axes>"
      ]
     },
     "metadata": {
      "needs_background": "light"
     },
     "output_type": "display_data"
    }
   ],
   "source": [
    "#Price and Brand\n",
    "plt.figure(figsize=(20,15))\n",
    "sn.set(font_scale=2)\n",
    "sn.boxplot(x='price', y='brand', data=cars)\n",
    "plt.grid()"
   ]
  },
  {
   "cell_type": "code",
   "execution_count": 80,
   "id": "9e6ca1a0",
   "metadata": {
    "scrolled": false
   },
   "outputs": [
    {
     "data": {
      "image/png": "[encoded data removed]",
      "text/plain": [
       "<Figure size 1440x1080 with 1 Axes>"
      ]
     },
     "metadata": {},
     "output_type": "display_data"
    }
   ],
   "source": [
    "#Price and City\n",
    "plt.figure(figsize=(20,15))\n",
    "sn.set(font_scale=2)\n",
    "sn.barplot(x='city', y='price', data=cars)\n",
    "plt.grid()"
   ]
  },
  {
   "cell_type": "code",
   "execution_count": 81,
   "id": "625ca26f",
   "metadata": {},
   "outputs": [
    {
     "data": {
      "text/plain": [
       "<seaborn.axisgrid.FacetGrid at 0x19e68090f70>"
      ]
     },
     "execution_count": 81,
     "metadata": {},
     "output_type": "execute_result"
    },
    {
     "data": {
      "image/png": "[encoded data removed]",
      "text/plain": [
       "<Figure size 1617.08x360 with 4 Axes>"
      ]
     },
     "metadata": {},
     "output_type": "display_data"
    }
   ],
   "source": [
    "#Owner type\n",
    "sn.relplot(data=cars, y='price',x='manufactured',col='owner',hue='type',aspect=1,height=5)"
   ]
  },
  {
   "cell_type": "code",
   "execution_count": 82,
   "id": "1226efeb",
   "metadata": {},
   "outputs": [
    {
     "data": {
      "image/png": "[encoded data removed]",
      "text/plain": [
       "<Figure size 1440x1080 with 1 Axes>"
      ]
     },
     "metadata": {},
     "output_type": "display_data"
    }
   ],
   "source": [
    "#Fuel Type and Price\n",
    "plt.figure(figsize=(20,15))\n",
    "sn.set(font_scale=2)\n",
    "sn.barplot(x='fuel', y='price', data=cars)\n",
    "plt.grid()"
   ]
  },
  {
   "cell_type": "code",
   "execution_count": 83,
   "id": "c8178f10",
   "metadata": {},
   "outputs": [
    {
     "data": {
      "image/png": "[encoded data removed]",
      "text/plain": [
       "<Figure size 1440x1080 with 1 Axes>"
      ]
     },
     "metadata": {},
     "output_type": "display_data"
    }
   ],
   "source": [
    "#Transmission Type and Price\n",
    "plt.figure(figsize=(20,15))\n",
    "sn.set(font_scale=2)\n",
    "sn.barplot(x='type', y='price', data=cars)\n",
    "plt.grid()"
   ]
  },
  {
   "cell_type": "code",
   "execution_count": 84,
   "id": "8460fbb6",
   "metadata": {
    "scrolled": false
   },
   "outputs": [
    {
     "data": {
      "image/png": "[encoded data removed]",
      "text/plain": [
       "<Figure size 1440x1080 with 1 Axes>"
      ]
     },
     "metadata": {},
     "output_type": "display_data"
    }
   ],
   "source": [
    "#Manufactured Year and Price\n",
    "plt.figure(figsize=(20,15))\n",
    "sn.set(font_scale=2)\n",
    "sn.barplot(x='manufactured', y='price', data=cars)\n",
    "plt.grid()"
   ]
  },
  {
   "cell_type": "code",
   "execution_count": 85,
   "id": "08372d16",
   "metadata": {},
   "outputs": [],
   "source": [
    "#OBSERVATION\n",
    "\n",
    "# There are a lot of cars sold on 2017 and 2018 \n",
    "# The highest selling brand is maruti followed by hyundai\n",
    "# The Maruti brand have the highest price\n",
    "# The cars in Mumbai and Pune have the highest price\n",
    "# The price decreases as number of owner increases.\n",
    "# The automatic transmission cars have a higher price than manual transmission cars.\n",
    "# The Deisel Fuel type cars are more expensive compared to other fuel type.\n",
    "# The older manufactured year are sold cheaper compared to latest manufactured year."
   ]
  },
  {
   "cell_type": "code",
   "execution_count": 86,
   "id": "a2ca1736",
   "metadata": {},
   "outputs": [
    {
     "data": {
      "text/plain": [
       "manufactured     int64\n",
       "brand           object\n",
       "variant         object\n",
       "owner           object\n",
       "fuel            object\n",
       "type            object\n",
       "kms              int32\n",
       "price            int32\n",
       "city            object\n",
       "dtype: object"
      ]
     },
     "execution_count": 86,
     "metadata": {},
     "output_type": "execute_result"
    }
   ],
   "source": [
    "#Checking the datatypes\n",
    "cars.dtypes"
   ]
  },
  {
   "cell_type": "code",
   "execution_count": 87,
   "id": "64cfed11",
   "metadata": {},
   "outputs": [
    {
     "name": "stdout",
     "output_type": "stream",
     "text": [
      "<class 'pandas.core.frame.DataFrame'>\n",
      "RangeIndex: 4853 entries, 0 to 4852\n",
      "Data columns (total 9 columns):\n",
      " #   Column        Non-Null Count  Dtype \n",
      "---  ------        --------------  ----- \n",
      " 0   manufactured  4853 non-null   int64 \n",
      " 1   brand         4853 non-null   object\n",
      " 2   variant       4853 non-null   object\n",
      " 3   owner         4853 non-null   object\n",
      " 4   fuel          4853 non-null   object\n",
      " 5   type          4853 non-null   object\n",
      " 6   kms           4853 non-null   int32 \n",
      " 7   price         4853 non-null   int32 \n",
      " 8   city          4853 non-null   object\n",
      "dtypes: int32(2), int64(1), object(6)\n",
      "memory usage: 303.4+ KB\n"
     ]
    }
   ],
   "source": [
    "cars.info()"
   ]
  },
  {
   "cell_type": "code",
   "execution_count": 88,
   "id": "74674a89",
   "metadata": {},
   "outputs": [
    {
     "data": {
      "text/html": [
       "<div>\n",
       "<style scoped>\n",
       "    .dataframe tbody tr th:only-of-type {\n",
       "        vertical-align: middle;\n",
       "    }\n",
       "\n",
       "    .dataframe tbody tr th {\n",
       "        vertical-align: top;\n",
       "    }\n",
       "\n",
       "    .dataframe thead th {\n",
       "        text-align: right;\n",
       "    }\n",
       "</style>\n",
       "<table border=\"1\" class=\"dataframe\">\n",
       "  <thead>\n",
       "    <tr style=\"text-align: right;\">\n",
       "      <th></th>\n",
       "      <th>manufactured</th>\n",
       "      <th>brand</th>\n",
       "      <th>variant</th>\n",
       "      <th>owner</th>\n",
       "      <th>fuel</th>\n",
       "      <th>type</th>\n",
       "      <th>kms</th>\n",
       "      <th>price</th>\n",
       "      <th>city</th>\n",
       "    </tr>\n",
       "  </thead>\n",
       "  <tbody>\n",
       "    <tr>\n",
       "      <th>0</th>\n",
       "      <td>2012</td>\n",
       "      <td>Maruti</td>\n",
       "      <td>Maruti Swift Dzire</td>\n",
       "      <td>1st Owner</td>\n",
       "      <td>Diesel</td>\n",
       "      <td>Manual</td>\n",
       "      <td>118117</td>\n",
       "      <td>316399</td>\n",
       "      <td>New Delhi</td>\n",
       "    </tr>\n",
       "    <tr>\n",
       "      <th>1</th>\n",
       "      <td>2013</td>\n",
       "      <td>Maruti</td>\n",
       "      <td>Maruti Swift</td>\n",
       "      <td>1st Owner</td>\n",
       "      <td>Diesel</td>\n",
       "      <td>Manual</td>\n",
       "      <td>114506</td>\n",
       "      <td>341599</td>\n",
       "      <td>New Delhi</td>\n",
       "    </tr>\n",
       "    <tr>\n",
       "      <th>2</th>\n",
       "      <td>2014</td>\n",
       "      <td>Maruti</td>\n",
       "      <td>Maruti Ritz</td>\n",
       "      <td>1st Owner</td>\n",
       "      <td>Diesel</td>\n",
       "      <td>Manual</td>\n",
       "      <td>43382</td>\n",
       "      <td>344199</td>\n",
       "      <td>New Delhi</td>\n",
       "    </tr>\n",
       "    <tr>\n",
       "      <th>3</th>\n",
       "      <td>2013</td>\n",
       "      <td>Hyundai</td>\n",
       "      <td>Hyundai i20</td>\n",
       "      <td>1st Owner</td>\n",
       "      <td>Diesel</td>\n",
       "      <td>Manual</td>\n",
       "      <td>64361</td>\n",
       "      <td>355799</td>\n",
       "      <td>New Delhi</td>\n",
       "    </tr>\n",
       "    <tr>\n",
       "      <th>4</th>\n",
       "      <td>2014</td>\n",
       "      <td>Maruti</td>\n",
       "      <td>Maruti Swift</td>\n",
       "      <td>1st Owner</td>\n",
       "      <td>Petrol</td>\n",
       "      <td>Manual</td>\n",
       "      <td>107206</td>\n",
       "      <td>401599</td>\n",
       "      <td>New Delhi</td>\n",
       "    </tr>\n",
       "  </tbody>\n",
       "</table>\n",
       "</div>"
      ],
      "text/plain": [
       "   manufactured    brand             variant      owner    fuel    type  \\\n",
       "0          2012   Maruti  Maruti Swift Dzire  1st Owner  Diesel  Manual   \n",
       "1          2013   Maruti        Maruti Swift  1st Owner  Diesel  Manual   \n",
       "2          2014   Maruti         Maruti Ritz  1st Owner  Diesel  Manual   \n",
       "3          2013  Hyundai         Hyundai i20  1st Owner  Diesel  Manual   \n",
       "4          2014   Maruti        Maruti Swift  1st Owner  Petrol  Manual   \n",
       "\n",
       "      kms   price       city  \n",
       "0  118117  316399  New Delhi  \n",
       "1  114506  341599  New Delhi  \n",
       "2   43382  344199  New Delhi  \n",
       "3   64361  355799  New Delhi  \n",
       "4  107206  401599  New Delhi  "
      ]
     },
     "execution_count": 88,
     "metadata": {},
     "output_type": "execute_result"
    }
   ],
   "source": [
    "cars.head()"
   ]
  },
  {
   "cell_type": "code",
   "execution_count": 89,
   "id": "f49dd823",
   "metadata": {},
   "outputs": [],
   "source": [
    "# Model\n",
    "x = cars.drop(columns='price')\n",
    "y = cars['price']"
   ]
  },
  {
   "cell_type": "code",
   "execution_count": 90,
   "id": "2b189557",
   "metadata": {},
   "outputs": [],
   "source": [
    "from sklearn.model_selection import train_test_split\n",
    "x_train, x_test, y_train, y_test = train_test_split(x,y, test_size=0.2)"
   ]
  },
  {
   "cell_type": "code",
   "execution_count": 91,
   "id": "b3d62f69",
   "metadata": {},
   "outputs": [],
   "source": [
    "from sklearn.linear_model import LinearRegression\n",
    "from sklearn.metrics import r2_score\n",
    "from sklearn.preprocessing import OneHotEncoder\n",
    "from sklearn.compose import make_column_transformer\n",
    "from sklearn.pipeline import make_pipeline"
   ]
  },
  {
   "cell_type": "code",
   "execution_count": 92,
   "id": "311ad6ea",
   "metadata": {},
   "outputs": [
    {
     "data": {
      "text/plain": [
       "OneHotEncoder()"
      ]
     },
     "execution_count": 92,
     "metadata": {},
     "output_type": "execute_result"
    }
   ],
   "source": [
    "#Encoding the Categorical Data\n",
    "ohe = OneHotEncoder()\n",
    "ohe.fit(x[['brand', 'variant', 'owner', 'fuel', 'type', 'city']])"
   ]
  },
  {
   "cell_type": "code",
   "execution_count": 93,
   "id": "99d17438",
   "metadata": {},
   "outputs": [
    {
     "data": {
      "text/plain": [
       "[array(['Audi', 'BMW', 'Chevrolet', 'Datsun', 'Ford', 'Honda', 'Hyundai',\n",
       "        'Jaguar', 'Jeep', 'Kia', 'Landrover', 'MG', 'Mahindra', 'Maruti',\n",
       "        'Mercedes', 'Mitsubishi', 'Nissan', 'Renault', 'Skoda', 'Tata',\n",
       "        'Toyota', 'Volkswagen', 'Volvo'], dtype=object),\n",
       " array(['Audi Q3', 'BMW 3 Series', 'BMW 5 Series', 'BMW X1', 'BMW X3',\n",
       "        'Chevrolet Beat', 'Chevrolet Cruze', 'Chevrolet Optra',\n",
       "        'Chevrolet Sail Hatchback', 'Chevrolet Spark', 'Datsun GO',\n",
       "        'Datsun GO Plus', 'Datsun Redi Go', 'Datsun RediGO',\n",
       "        'Ford Ecosport', 'Ford Fiesta', 'Ford Figo', 'Ford Figo Aspire',\n",
       "        'Ford Freestyle', 'Ford New Figo', 'Honda Amaze', 'Honda BR-V',\n",
       "        'Honda Brio', 'Honda CRV', 'Honda City', 'Honda Civic',\n",
       "        'Honda Jazz', 'Honda Mobilio', 'Honda WR-V', 'Hyundai Aura',\n",
       "        'Hyundai Creta', 'Hyundai EON', 'Hyundai Elite i20', 'Hyundai Eon',\n",
       "        'Hyundai GRAND I10 NIOS', 'Hyundai Grand i10',\n",
       "        'Hyundai Grand i10 Nios', 'Hyundai New Elantra',\n",
       "        'Hyundai New Santro', 'Hyundai New i20', 'Hyundai Santa Fe',\n",
       "        'Hyundai Santro', 'Hyundai Santro Xing', 'Hyundai Tucson New',\n",
       "        'Hyundai Venue', 'Hyundai Verna', 'Hyundai Xcent', 'Hyundai i10',\n",
       "        'Hyundai i20', 'Hyundai i20 Active', 'Jaguar XF', 'Jeep Compass',\n",
       "        'Kia Seltos', 'Kia Sonet', 'Landrover Freelander 2', 'MG Hector',\n",
       "        'Mahindra Bolero', 'Mahindra Bolero Power Plus',\n",
       "        'Mahindra KUV 100', 'Mahindra Kuv100', 'Mahindra Marazzo',\n",
       "        'Mahindra NUVOSPORT', 'Mahindra Quanto', 'Mahindra Scorpio',\n",
       "        'Mahindra TUV 300', 'Mahindra TUV300', 'Mahindra Thar',\n",
       "        'Mahindra XUV 3OO', 'Mahindra XUV300', 'Mahindra XUV500',\n",
       "        'Maruti 800', 'Maruti A Star', 'Maruti Alto', 'Maruti Alto 800',\n",
       "        'Maruti Alto K10', 'Maruti Baleno', 'Maruti Celerio',\n",
       "        'Maruti Celerio X', 'Maruti Ciaz', 'Maruti Dzire', 'Maruti Eeco',\n",
       "        'Maruti Ertiga', 'Maruti Ignis', 'Maruti New Wagon-R',\n",
       "        'Maruti Omni', 'Maruti Omni E', 'Maruti Ritz', 'Maruti S Cross',\n",
       "        'Maruti S PRESSO', 'Maruti S-Presso', 'Maruti SX4',\n",
       "        'Maruti SX4 S Cross', 'Maruti Swift', 'Maruti Swift Dzire',\n",
       "        'Maruti Vitara Brezza', 'Maruti Wagon R', 'Maruti Wagon R 1.0',\n",
       "        'Maruti Wagon R Stingray', 'Maruti XL6', 'Maruti Zen Estilo',\n",
       "        'Mercedes Benz E Class', 'Mercedes E-Class', 'Mercedes GLA Class',\n",
       "        'Mercedes New C-Class', 'Mitsubishi Pajero', 'Nissan Kicks',\n",
       "        'Nissan Micra', 'Nissan Micra Active', 'Nissan Sunny',\n",
       "        'Nissan Terrano', 'Renault Captur', 'Renault Duster',\n",
       "        'Renault Kwid', 'Renault Lodgy', 'Renault Triber',\n",
       "        'Skoda New Laura', 'Skoda Rapid', 'Skoda Superb', 'Tata Altroz',\n",
       "        'Tata Harrier', 'Tata Hexa', 'Tata Indica', 'Tata Indigo',\n",
       "        'Tata Manza', 'Tata Nano', 'Tata Nexon', 'Tata Sumo', 'Tata TIGOR',\n",
       "        'Tata Tiago', 'Toyota Camry', 'Toyota Corolla Altis',\n",
       "        'Toyota Etios', 'Toyota Etios Liva', 'Toyota Fortuner',\n",
       "        'Toyota Glanza', 'Toyota Innova', 'Toyota Innova Crysta',\n",
       "        'Toyota YARIS', 'Volkswagen Ameo', 'Volkswagen Jetta',\n",
       "        'Volkswagen Polo', 'Volkswagen Vento', 'Volvo S60'], dtype=object),\n",
       " array(['1st Owner', '2nd Owner', '3rd Owner', '4th Owner'], dtype=object),\n",
       " array(['CNG', 'Diesel', 'Petrol'], dtype=object),\n",
       " array(['Automatic', 'Manual'], dtype=object),\n",
       " array(['Ahmedabad', 'Bengaluru', 'Chennai', 'Delhi Ncr', 'Gurgaon',\n",
       "        'Hyderabad', 'Jaipur', 'Kolkata', 'Mumbai', 'New Delhi', 'Noida',\n",
       "        'Pune'], dtype=object)]"
      ]
     },
     "execution_count": 93,
     "metadata": {},
     "output_type": "execute_result"
    }
   ],
   "source": [
    "#Creating a categories\n",
    "ohe.categories_"
   ]
  },
  {
   "cell_type": "code",
   "execution_count": 94,
   "id": "878df52c",
   "metadata": {},
   "outputs": [],
   "source": [
    "#Transform the column into OneHotEncoder\n",
    "column_trans = make_column_transformer((OneHotEncoder(categories=ohe.categories_),\n",
    "['brand', 'variant', 'owner', 'fuel', 'type','city']), remainder ='passthrough')"
   ]
  },
  {
   "cell_type": "code",
   "execution_count": 95,
   "id": "e2d54b42",
   "metadata": {},
   "outputs": [],
   "source": [
    "lr=LinearRegression()"
   ]
  },
  {
   "cell_type": "code",
   "execution_count": 96,
   "id": "d100820a",
   "metadata": {},
   "outputs": [],
   "source": [
    "#Calls for the column that was being transform and directly using linear regression\n",
    "pipe=make_pipeline(column_trans,lr)"
   ]
  },
  {
   "cell_type": "code",
   "execution_count": 97,
   "id": "445efd89",
   "metadata": {},
   "outputs": [
    {
     "data": {
      "text/plain": [
       "Pipeline(steps=[('columntransformer',\n",
       "                 ColumnTransformer(remainder='passthrough',\n",
       "                                   transformers=[('onehotencoder',\n",
       "                                                  OneHotEncoder(categories=[array(['Audi', 'BMW', 'Chevrolet', 'Datsun', 'Ford', 'Honda', 'Hyundai',\n",
       "       'Jaguar', 'Jeep', 'Kia', 'Landrover', 'MG', 'Mahindra', 'Maruti',\n",
       "       'Mercedes', 'Mitsubishi', 'Nissan', 'Renault', 'Skoda', 'Tata',\n",
       "       'Toyota', 'Volkswagen', 'Volvo'],...\n",
       "                                                                            array(['1st Owner', '2nd Owner', '3rd Owner', '4th Owner'], dtype=object),\n",
       "                                                                            array(['CNG', 'Diesel', 'Petrol'], dtype=object),\n",
       "                                                                            array(['Automatic', 'Manual'], dtype=object),\n",
       "                                                                            array(['Ahmedabad', 'Bengaluru', 'Chennai', 'Delhi Ncr', 'Gurgaon',\n",
       "       'Hyderabad', 'Jaipur', 'Kolkata', 'Mumbai', 'New Delhi', 'Noida',\n",
       "       'Pune'], dtype=object)]),\n",
       "                                                  ['brand', 'variant', 'owner',\n",
       "                                                   'fuel', 'type', 'city'])])),\n",
       "                ('linearregression', LinearRegression())])"
      ]
     },
     "execution_count": 97,
     "metadata": {},
     "output_type": "execute_result"
    }
   ],
   "source": [
    "# Using the pipeline to make the preprocessing easy\n",
    "pipe.fit(x_train, y_train)"
   ]
  },
  {
   "cell_type": "code",
   "execution_count": 98,
   "id": "b57b1075",
   "metadata": {},
   "outputs": [],
   "source": [
    "# Testing the prediction\n",
    "y_pred = pipe.predict(x_test)"
   ]
  },
  {
   "cell_type": "code",
   "execution_count": 99,
   "id": "d97d0595",
   "metadata": {},
   "outputs": [
    {
     "data": {
      "text/plain": [
       "0.8931184240602186"
      ]
     },
     "execution_count": 99,
     "metadata": {},
     "output_type": "execute_result"
    }
   ],
   "source": [
    "r2_score(y_test,y_pred)"
   ]
  },
  {
   "cell_type": "code",
   "execution_count": 100,
   "id": "66635d70",
   "metadata": {},
   "outputs": [
    {
     "data": {
      "text/plain": [
       "(4853, 9)"
      ]
     },
     "execution_count": 100,
     "metadata": {},
     "output_type": "execute_result"
    }
   ],
   "source": [
    "cars.shape"
   ]
  },
  {
   "cell_type": "code",
   "execution_count": 101,
   "id": "710c0de7",
   "metadata": {},
   "outputs": [],
   "source": [
    "scores=[]\n",
    "for i in range(10):\n",
    "    x_train, x_test, y_train, y_test = train_test_split(x,y, test_size=0.2, random_state = i)\n",
    "    lr=LinearRegression()\n",
    "    pipe=make_pipeline(column_trans,lr)\n",
    "    pipe.fit(x_train, y_train)\n",
    "    y_pred = pipe.predict(x_test)\n",
    "    scores.append(r2_score(y_test,y_pred))"
   ]
  },
  {
   "cell_type": "code",
   "execution_count": 102,
   "id": "4fc7de83",
   "metadata": {},
   "outputs": [
    {
     "data": {
      "text/plain": [
       "2"
      ]
     },
     "execution_count": 102,
     "metadata": {},
     "output_type": "execute_result"
    }
   ],
   "source": [
    "np.argmax(scores)"
   ]
  },
  {
   "cell_type": "code",
   "execution_count": 103,
   "id": "66c86442",
   "metadata": {},
   "outputs": [
    {
     "data": {
      "text/plain": [
       "0.921066022669192"
      ]
     },
     "execution_count": 103,
     "metadata": {},
     "output_type": "execute_result"
    }
   ],
   "source": [
    "scores[np.argmax(scores)]"
   ]
  },
  {
   "cell_type": "code",
   "execution_count": 104,
   "id": "7cf884ff",
   "metadata": {},
   "outputs": [
    {
     "data": {
      "text/plain": [
       "0.9036833966400908"
      ]
     },
     "execution_count": 104,
     "metadata": {},
     "output_type": "execute_result"
    }
   ],
   "source": [
    "# Using the 5000 because its close to our 4883 row\n",
    "x_train, x_test, y_train, y_test = train_test_split(x,y, test_size=0.2, random_state = 23)\n",
    "lr=LinearRegression()\n",
    "pipe=make_pipeline(column_trans,lr)\n",
    "pipe.fit(x_train, y_train)\n",
    "y_pred = pipe.predict(x_test)\n",
    "r2_score(y_test,y_pred)"
   ]
  },
  {
   "cell_type": "code",
   "execution_count": 105,
   "id": "f5ce5a21",
   "metadata": {},
   "outputs": [],
   "source": [
    "import pickle"
   ]
  },
  {
   "cell_type": "code",
   "execution_count": 106,
   "id": "da5a1f9b",
   "metadata": {},
   "outputs": [],
   "source": [
    "#Saving the model\n",
    "pickle.dump(pipe,open('LinearRegressionModel.pkl', 'wb'))"
   ]
  },
  {
   "cell_type": "code",
   "execution_count": 107,
   "id": "2ba586d8",
   "metadata": {},
   "outputs": [
    {
     "data": {
      "text/html": [
       "<div>\n",
       "<style scoped>\n",
       "    .dataframe tbody tr th:only-of-type {\n",
       "        vertical-align: middle;\n",
       "    }\n",
       "\n",
       "    .dataframe tbody tr th {\n",
       "        vertical-align: top;\n",
       "    }\n",
       "\n",
       "    .dataframe thead th {\n",
       "        text-align: right;\n",
       "    }\n",
       "</style>\n",
       "<table border=\"1\" class=\"dataframe\">\n",
       "  <thead>\n",
       "    <tr style=\"text-align: right;\">\n",
       "      <th></th>\n",
       "      <th>manufactured</th>\n",
       "      <th>brand</th>\n",
       "      <th>variant</th>\n",
       "      <th>owner</th>\n",
       "      <th>fuel</th>\n",
       "      <th>type</th>\n",
       "      <th>kms</th>\n",
       "      <th>price</th>\n",
       "      <th>city</th>\n",
       "    </tr>\n",
       "  </thead>\n",
       "  <tbody>\n",
       "    <tr>\n",
       "      <th>4852</th>\n",
       "      <td>2015</td>\n",
       "      <td>Honda</td>\n",
       "      <td>Honda City</td>\n",
       "      <td>1st Owner</td>\n",
       "      <td>Petrol</td>\n",
       "      <td>Manual</td>\n",
       "      <td>75856</td>\n",
       "      <td>656500</td>\n",
       "      <td>Noida</td>\n",
       "    </tr>\n",
       "  </tbody>\n",
       "</table>\n",
       "</div>"
      ],
      "text/plain": [
       "      manufactured  brand     variant      owner    fuel    type    kms  \\\n",
       "4852          2015  Honda  Honda City  1st Owner  Petrol  Manual  75856   \n",
       "\n",
       "       price   city  \n",
       "4852  656500  Noida  "
      ]
     },
     "execution_count": 107,
     "metadata": {},
     "output_type": "execute_result"
    }
   ],
   "source": [
    "#Actual price and Predicted price\n",
    "cars.tail(1)"
   ]
  },
  {
   "cell_type": "code",
   "execution_count": 108,
   "id": "635426de",
   "metadata": {},
   "outputs": [
    {
     "data": {
      "text/plain": [
       "array([659281.19808476])"
      ]
     },
     "execution_count": 108,
     "metadata": {},
     "output_type": "execute_result"
    }
   ],
   "source": [
    "pipe.predict(pd.DataFrame([[2015, 'Honda', 'Honda City', '1st Owner', 'Petrol', 'Manual', 75856, 'Noida' ]], \n",
    "columns=['manufactured', 'brand', 'variant', 'owner', 'fuel', 'type', 'kms', 'city']))"
   ]
  },
  {
   "cell_type": "code",
   "execution_count": 109,
   "id": "c02ecd3c",
   "metadata": {},
   "outputs": [
    {
     "data": {
      "text/html": [
       "<div>\n",
       "<style scoped>\n",
       "    .dataframe tbody tr th:only-of-type {\n",
       "        vertical-align: middle;\n",
       "    }\n",
       "\n",
       "    .dataframe tbody tr th {\n",
       "        vertical-align: top;\n",
       "    }\n",
       "\n",
       "    .dataframe thead th {\n",
       "        text-align: right;\n",
       "    }\n",
       "</style>\n",
       "<table border=\"1\" class=\"dataframe\">\n",
       "  <thead>\n",
       "    <tr style=\"text-align: right;\">\n",
       "      <th></th>\n",
       "      <th>manufactured</th>\n",
       "      <th>brand</th>\n",
       "      <th>variant</th>\n",
       "      <th>owner</th>\n",
       "      <th>fuel</th>\n",
       "      <th>type</th>\n",
       "      <th>kms</th>\n",
       "      <th>price</th>\n",
       "      <th>city</th>\n",
       "    </tr>\n",
       "  </thead>\n",
       "  <tbody>\n",
       "    <tr>\n",
       "      <th>0</th>\n",
       "      <td>2012</td>\n",
       "      <td>Maruti</td>\n",
       "      <td>Maruti Swift Dzire</td>\n",
       "      <td>1st Owner</td>\n",
       "      <td>Diesel</td>\n",
       "      <td>Manual</td>\n",
       "      <td>118117</td>\n",
       "      <td>316399</td>\n",
       "      <td>New Delhi</td>\n",
       "    </tr>\n",
       "  </tbody>\n",
       "</table>\n",
       "</div>"
      ],
      "text/plain": [
       "   manufactured   brand             variant      owner    fuel    type  \\\n",
       "0          2012  Maruti  Maruti Swift Dzire  1st Owner  Diesel  Manual   \n",
       "\n",
       "      kms   price       city  \n",
       "0  118117  316399  New Delhi  "
      ]
     },
     "execution_count": 109,
     "metadata": {},
     "output_type": "execute_result"
    }
   ],
   "source": [
    "cars.head(1)"
   ]
  },
  {
   "cell_type": "code",
   "execution_count": 110,
   "id": "4914a57e",
   "metadata": {},
   "outputs": [
    {
     "data": {
      "text/plain": [
       "array([325014.06519838])"
      ]
     },
     "execution_count": 110,
     "metadata": {},
     "output_type": "execute_result"
    }
   ],
   "source": [
    "pipe.predict(pd.DataFrame([[2012, 'Maruti', 'Maruti Swift Dzire', '1st Owner', 'Diesel', 'Manual', 118117, 'New Delhi' ]], \n",
    "columns=['manufactured', 'brand', 'variant', 'owner', 'fuel', 'type', 'kms', 'city']))"
   ]
  },
  {
   "cell_type": "code",
   "execution_count": 111,
   "id": "1122358c",
   "metadata": {},
   "outputs": [],
   "source": [
    "#Batch prediction\n",
    "test_model = pickle.load(open('LinearRegressionModel.pkl','rb'))"
   ]
  },
  {
   "cell_type": "code",
   "execution_count": 114,
   "id": "c7314c24",
   "metadata": {},
   "outputs": [
    {
     "name": "stdout",
     "output_type": "stream",
     "text": [
      "      manufactured    brand             variant      owner    fuel    type  \\\n",
      "2134          2017   Maruti        Maruti Swift  1st Owner  Diesel  Manual   \n",
      "928           2016   Maruti         Maruti Ciaz  1st Owner  Diesel  Manual   \n",
      "1565          2018     Ford       Ford Ecosport  1st Owner  Petrol  Manual   \n",
      "3787          2013   Maruti  Maruti Wagon R 1.0  1st Owner  Petrol  Manual   \n",
      "1254          2014   Maruti  Maruti Wagon R 1.0  1st Owner  Petrol  Manual   \n",
      "2039          2016   Maruti       Maruti Baleno  1st Owner  Diesel  Manual   \n",
      "13            2018   Maruti       Maruti Baleno  1st Owner  Petrol  Manual   \n",
      "3274          2016   Maruti        Maruti Swift  1st Owner  Petrol  Manual   \n",
      "2051          2019  Hyundai       Hyundai Venue  1st Owner  Petrol  Manual   \n",
      "3849          2017  Hyundai         Hyundai Eon  2nd Owner  Petrol  Manual   \n",
      "\n",
      "         kms    price       city  \n",
      "2134   23547   612099       Pune  \n",
      "928   168380   559299      Noida  \n",
      "1565   44329   821999     Mumbai  \n",
      "3787   29524   298699    Kolkata  \n",
      "1254    5027   334799    Gurgaon  \n",
      "2039   96899   552099       Pune  \n",
      "13     23580   612399  New Delhi  \n",
      "3274   15864   557199    Chennai  \n",
      "2051    8924  1057399       Pune  \n",
      "3849   46703   290999  Ahmedabad  \n"
     ]
    }
   ],
   "source": [
    "new_xdata=cars.sample(10)\n",
    "print(new_xdata)"
   ]
  },
  {
   "cell_type": "code",
   "execution_count": 115,
   "id": "631c47bc",
   "metadata": {},
   "outputs": [
    {
     "name": "stdout",
     "output_type": "stream",
     "text": [
      "[617422 547051 811222 244500 313699 565421 625576 563824 935112 336979]\n"
     ]
    }
   ],
   "source": [
    "pred=test_model.predict(new_xdata)\n",
    "x = np.array(list(map(np.int_, pred)))\n",
    "print(x)"
   ]
  },
  {
   "cell_type": "code",
   "execution_count": null,
   "id": "66969f1a",
   "metadata": {},
   "outputs": [],
   "source": []
  }
 ],
 "metadata": {
  "kernelspec": {
   "display_name": "Python 3 (ipykernel)",
   "language": "python",
   "name": "python3"
  },
  "language_info": {
   "codemirror_mode": {
    "name": "ipython",
    "version": 3
   },
   "file_extension": ".py",
   "mimetype": "text/x-python",
   "name": "python",
   "nbconvert_exporter": "python",
   "pygments_lexer": "ipython3",
   "version": "3.9.12"
  }
 },
 "nbformat": 4,
 "nbformat_minor": 5
}
